{
 "cells": [
  {
   "cell_type": "markdown",
   "metadata": {},
   "source": [
    "# Module 5 R Exercise\n",
    "\n",
    "In these exercises, we will use ggplot2 layered approach to create plots similar to the ones in the practice. \n",
    "\n",
    "Let's start with the U.S. Census Bureau population projections."
   ]
  },
  {
   "cell_type": "code",
   "execution_count": 1,
   "metadata": {
    "collapsed": false
   },
   "outputs": [
    {
     "data": {
      "text/html": [
       "<table>\n",
       "<thead><tr><th scope=col>sex</th><th scope=col>age</th><th scope=col>year</th><th scope=col>pop</th></tr></thead>\n",
       "<tbody>\n",
       "\t<tr><td>Female        </td><td>Under 5 years </td><td>2015          </td><td> 9755         </td></tr>\n",
       "\t<tr><td>Female        </td><td>5 to 13 years </td><td>2015          </td><td>18047         </td></tr>\n",
       "\t<tr><td>Female        </td><td>14 to 17 years</td><td>2015          </td><td> 8207         </td></tr>\n",
       "\t<tr><td>Female        </td><td>18 to 24 years</td><td>2015          </td><td>15196         </td></tr>\n",
       "\t<tr><td>Female        </td><td>25 to 44 years</td><td>2015          </td><td>42098         </td></tr>\n",
       "\t<tr><td>Female        </td><td>45 to 64 years</td><td>2015          </td><td>43021         </td></tr>\n",
       "</tbody>\n",
       "</table>\n"
      ],
      "text/latex": [
       "\\begin{tabular}{r|llll}\n",
       " sex & age & year & pop\\\\\n",
       "\\hline\n",
       "\t Female         & Under 5 years  & 2015           &  9755         \\\\\n",
       "\t Female         & 5 to 13 years  & 2015           & 18047         \\\\\n",
       "\t Female         & 14 to 17 years & 2015           &  8207         \\\\\n",
       "\t Female         & 18 to 24 years & 2015           & 15196         \\\\\n",
       "\t Female         & 25 to 44 years & 2015           & 42098         \\\\\n",
       "\t Female         & 45 to 64 years & 2015           & 43021         \\\\\n",
       "\\end{tabular}\n"
      ],
      "text/plain": [
       "  sex    age            year pop  \n",
       "1 Female Under 5 years  2015  9755\n",
       "2 Female 5 to 13 years  2015 18047\n",
       "3 Female 14 to 17 years 2015  8207\n",
       "4 Female 18 to 24 years 2015 15196\n",
       "5 Female 25 to 44 years 2015 42098\n",
       "6 Female 45 to 64 years 2015 43021"
      ]
     },
     "metadata": {},
     "output_type": "display_data"
    },
    {
     "data": {
      "text/plain": [
       "     sex                    age         year           pop       \n",
       " Female:28   14 to 17 years   :8   Min.   :2015   Min.   : 8173  \n",
       " Male  :28   18 to 24 years   :8   1st Qu.:2019   1st Qu.:10690  \n",
       "             25 to 44 years   :8   Median :2022   Median :18773  \n",
       "             45 to 64 years   :8   Mean   :2022   Mean   :24332  \n",
       "             5 to 13 years    :8   3rd Qu.:2026   3rd Qu.:40819  \n",
       "             65 years and over:8   Max.   :2030   Max.   :48846  \n",
       "             Under 5 years    :8                                 "
      ]
     },
     "metadata": {},
     "output_type": "display_data"
    }
   ],
   "source": [
    "library(ggplot2)\n",
    "library(RColorBrewer)\n",
    "\n",
    "pproj = read.csv(\"../../../datasets/census/pop_proj.csv\")\n",
    "head(pproj)\n",
    "summary(pproj)\n"
   ]
  },
  {
   "cell_type": "markdown",
   "metadata": {},
   "source": [
    "This data set has seven age brackets instead of each and every age. Years show the projection years of the male and female population in U.S. and population is given in 1000s. \n",
    "\n",
    "**Exercise 1: ** Create a bar plot to show the age bracket distribution of the total population in year 2015. "
   ]
  },
  {
   "cell_type": "code",
   "execution_count": null,
   "metadata": {
    "collapsed": false
   },
   "outputs": [],
   "source": [
    "# Remember how to do a bar chart with actual values instead of counts. You should use \"identity\" statistics. \n",
    "ggplot(pproj, aes(<-YOUR CODE HERE->) +\n",
    "geom_bar(data = subset(<-YOUR CODE HERE->), stat=\"identity\") +\n",
    "# this is to order the x axis \n",
    "scale_x_discrete(limits = c(\"Under 5 years\",\"5 to 13 years\",\"14 to 17 years\",\"18 to 24 years\",\"25 to 44 years\", \n",
    "                            \"45 to 64 years\",\"65 years and over\"))"
   ]
  },
  {
   "cell_type": "markdown",
   "metadata": {},
   "source": [
    "**Exercise 2: ** Create a pie chart for the same data in exercise 1. "
   ]
  },
  {
   "cell_type": "code",
   "execution_count": null,
   "metadata": {
    "collapsed": false
   },
   "outputs": [],
   "source": [
    "# remember a pie chart really is a STACKED bar chart with a SINGLE (1) bar in a polar coordinate system. \n",
    "# use fill to stack a variable's classes in the bar. \n",
    "ggplot(pproj, aes(<-YOUR CODE HERE->)) + \n",
    "geom_bar(data = subset(<-YOUR CODE HERE->), stat=\"identity\", width=1) +\n",
    "# which coords ? \n",
    "<-YOUR CODE HERE->"
   ]
  },
  {
   "cell_type": "markdown",
   "metadata": {},
   "source": [
    "**Exercise 3: ** Create a pie chart for similar to above exercise but only for female population. "
   ]
  },
  {
   "cell_type": "code",
   "execution_count": null,
   "metadata": {
    "collapsed": false
   },
   "outputs": [],
   "source": [
    "ggplot(pproj, aes(<-YOUR CODE HERE->)) + \n",
    "geom_bar(data = subset(<-YOUR CODE HERE->)), stat=\"identity\", width=1) +\n",
    "<-YOUR CODE HERE->"
   ]
  },
  {
   "cell_type": "markdown",
   "metadata": {},
   "source": [
    "**Exercise 4: ** Create pie charts of all years for total population similar to exercise 2. Use faceting."
   ]
  },
  {
   "cell_type": "code",
   "execution_count": null,
   "metadata": {
    "collapsed": false
   },
   "outputs": [],
   "source": [
    "ggplot(pproj, aes(<-YOUR CODE HERE->)) + \n",
    "# do not forget to use fill position adjustment, see what happens if you don't. \n",
    "geom_bar(stat=\"identity\", width=1, position=\"fill\") +\n",
    "<-YOUR CODE HERE-> +\n",
    "<-YOUR CODE HERE->"
   ]
  },
  {
   "cell_type": "markdown",
   "metadata": {},
   "source": [
    "**Exercise 5: ** Create a population pyramid for year 2015. "
   ]
  },
  {
   "cell_type": "code",
   "execution_count": null,
   "metadata": {
    "collapsed": false
   },
   "outputs": [],
   "source": [
    "# Look at your practice code and figure out how you could adapt it for this. \n",
    "ggplot(pproj, aes(<-YOUR CODE HERE->)) + \n",
    "geom_bar(<-YOUR CODE HERE->) +\n",
    "geom_bar(<-YOUR CODE HERE->) +\n",
    "coord_flip() +\n",
    "# make sure to have ordered axis\n",
    "scale_x_discrete(limits = c(\"Under 5 years\",\"5 to 13 years\",\"14 to 17 years\",\"18 to 24 years\",\"25 to 44 years\", \n",
    "                            \"45 to 64 years\",\"65 years and over\"))"
   ]
  },
  {
   "cell_type": "markdown",
   "metadata": {},
   "source": [
    "**Exercise 6: ** Create four population pyramids for all years. Use faceting.  "
   ]
  },
  {
   "cell_type": "code",
   "execution_count": null,
   "metadata": {
    "collapsed": false
   },
   "outputs": [],
   "source": [
    "# Look at your practice code and figure out how you could adapt it for this. \n",
    "<-YOUR CODE HERE->"
   ]
  },
  {
   "cell_type": "markdown",
   "metadata": {},
   "source": [
    "**Exercise 7: ** Create a stacked bar chart to show male and female population projections for **all** years. Hint: year will be encoded by the x position."
   ]
  },
  {
   "cell_type": "code",
   "execution_count": null,
   "metadata": {
    "collapsed": false
   },
   "outputs": [],
   "source": [
    "ggplot(pproj, aes(<-YOUR CODE HERE->) +\n",
    "geom_bar(<-YOUR CODE HERE->) \n"
   ]
  },
  {
   "cell_type": "markdown",
   "metadata": {},
   "source": [
    "Now we will read another data set: San Francisco population projections from California Open Data Portal. This data has population projections for each age and ethnicity. \n",
    "\n",
    "**Exercise 8: ** Create a **total** population pyramid for year 2015."
   ]
  },
  {
   "cell_type": "code",
   "execution_count": null,
   "metadata": {
    "collapsed": false
   },
   "outputs": [],
   "source": [
    "sfoproj = read.csv(\"../../../datasets/census/SFO_pop_pyr.csv\")\n",
    "head(sfoproj)\n",
    "summary(sfoproj)"
   ]
  },
  {
   "cell_type": "code",
   "execution_count": null,
   "metadata": {
    "collapsed": false
   },
   "outputs": [],
   "source": [
    "ggplot(sfoproj, aes(<-YOUR CODE HERE->)) + \n",
    "geom_bar(<-YOUR CODE HERE->, width=0.7) +\n",
    "geom_bar(<-YOUR CODE HERE->, width=0.7) +\n",
    "coord_flip()"
   ]
  },
  {
   "cell_type": "markdown",
   "metadata": {},
   "source": [
    "**Exercise 9: ** Create a population pyramid for year 2015, and show ethnicities as stacked bars. Hint: the only thing you have to change is how the bars will be filled. "
   ]
  },
  {
   "cell_type": "code",
   "execution_count": null,
   "metadata": {
    "collapsed": false
   },
   "outputs": [],
   "source": [
    "# First we need to create an \"ordered\" attribute so that both sides \n",
    "# of the pyramid are ordered with respect to the order we specify. \n",
    "sfoproj <- transform(sfoproj,\n",
    "       Race_name = ordered(Race_name, levels = c(\"White\",\"Asian\",\"Hispanic\",\"Black\",\"American Indian\",\"Pacific Islander\",\"Multi-Race\")))\n",
    "\n",
    "# Now do the pyramid here. do NOT use  position = \"identity\" for the geom_bar \n",
    "ggplot(sfoproj, aes(<-YOUR CODE HERE->)) + \n",
    "geom_bar(<-YOUR CODE HERE->, width=0.7) +\n",
    "geom_bar(<-YOUR CODE HERE->, width=0.7) +\n",
    "<-YOUR CODE HERE-> +  \n",
    "scale_fill_brewer(palette=\"Set2\")\n",
    " "
   ]
  },
  {
   "cell_type": "markdown",
   "metadata": {},
   "source": [
    "**Exercise 10: ** Create three population pyramids for years 2010, 2015, and 2020, and show ethnicities as stacked bars. Use faceting."
   ]
  },
  {
   "cell_type": "code",
   "execution_count": null,
   "metadata": {
    "collapsed": false
   },
   "outputs": [],
   "source": [
    "<-YOUR CODE HERE->"
   ]
  }
 ],
 "metadata": {
  "kernelspec": {
   "display_name": "R",
   "language": "R",
   "name": "ir"
  },
  "language_info": {
   "codemirror_mode": "r",
   "file_extension": ".r",
   "mimetype": "text/x-r-source",
   "name": "R",
   "pygments_lexer": "r",
   "version": "3.3.2"
  }
 },
 "nbformat": 4,
 "nbformat_minor": 2
}
