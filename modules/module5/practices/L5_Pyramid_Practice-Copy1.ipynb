{
 "cells": [
  {
   "cell_type": "markdown",
   "metadata": {},
   "source": [
    "## Module 5 Practice - Population Pyramids\n",
    "\n",
    "\n",
    "A population pyramid is a type of bar chart that shows the distribution of ages or age groups in a specific population. \n",
    "It usually shows gender as part of the pyramid but can also be augmented with other information such as race, marital status, education level etc. In this practice, we will see how we can manipulate a bar chart in ggplot2 by using different components of the layered grammar to produce a population pyramid. This type of visualization can also be used for other purposes whenever we want to show the distribution of a variable among two values of another variable. "
   ]
  },
  {
   "cell_type": "markdown",
   "metadata": {},
   "source": [
    "First take a look at simple bar chart and see how we can use the **position** adjustment component to create different types of bar charts. "
   ]
  },
  {
   "cell_type": "code",
   "execution_count": null,
   "metadata": {
    "collapsed": false
   },
   "outputs": [],
   "source": [
    "library(ggplot2)\n",
    "ggplot(data = diamonds) + geom_bar(mapping = aes(x = cut, fill = cut))"
   ]
  },
  {
   "cell_type": "markdown",
   "metadata": {},
   "source": [
    "*geom_bar()* geom counts the number of data points that have a particular *cut* and plots them as bars. Here color is not really important, but we can assign another attribute to the *fill* property. In that case, we'll have a *stacked* bar chart. "
   ]
  },
  {
   "cell_type": "code",
   "execution_count": null,
   "metadata": {
    "collapsed": false
   },
   "outputs": [],
   "source": [
    "ggplot(data = diamonds) + geom_bar(mapping = aes(x = cut, fill = clarity))"
   ]
  },
  {
   "cell_type": "markdown",
   "metadata": {},
   "source": [
    "We can control the positioning of the bars by adding a position adjustment component. Position can be one of the following: \"identity\", \"stack\", \"dodge\", \"fill\", \"jitter\".\n",
    "\n",
    "When position = \"identity\", ggplot2 will place each object exactly where it falls in the context of the graph.\n",
    "For the bar chart, this would mean that each bar would start at y = 0 and would appear directly above the cut value that it describes. Since there are eight bars for each value of cut, many bars would overlap. It will *look like* a stacked bar chart, but the stacked heights will be inaccurate, because each bar starts from y = 0 and they overlap. \n",
    "position = \"identity\" is a good default position adjustment for many geoms such as geom_point(), but not very useful for bar chart in general. Later, we will see how to use it sensibly for the population pyramid."
   ]
  },
  {
   "cell_type": "code",
   "execution_count": null,
   "metadata": {
    "collapsed": false
   },
   "outputs": [],
   "source": [
    "# this is not a stacked bar chart!\n",
    "ggplot(data = diamonds) + geom_bar(mapping = aes(x = cut, fill = clarity), position = \"identity\")"
   ]
  },
  {
   "cell_type": "code",
   "execution_count": null,
   "metadata": {
    "collapsed": false
   },
   "outputs": [],
   "source": [
    "# \"stack\" position is the default for the geom_bar if there is an attribute assigned to fill, here we explicitly use the \"stack\".\n",
    "ggplot(data = diamonds) + geom_bar(mapping = aes(x = cut, fill = clarity), position = \"stack\") "
   ]
  },
  {
   "cell_type": "markdown",
   "metadata": {},
   "source": [
    "If we want to compare the percentage distribution of the groups, we can use *fill* position adjustment that will \n",
    "stretch bars to a 100% line and show the distribution."
   ]
  },
  {
   "cell_type": "code",
   "execution_count": null,
   "metadata": {
    "collapsed": false
   },
   "outputs": [],
   "source": [
    "# position \"fill\" creates a bar chart that shows the relative frequencies across groups\n",
    "ggplot(data = diamonds) + geom_bar(mapping = aes(x = cut, fill = clarity), position = \"fill\")"
   ]
  },
  {
   "cell_type": "code",
   "execution_count": null,
   "metadata": {
    "collapsed": false
   },
   "outputs": [],
   "source": [
    "# If we want bars next to each other, we use \"dodge\"\n",
    "ggplot(data = diamonds) + geom_bar(mapping = aes(x = cut, fill = clarity), position = \"dodge\")"
   ]
  },
  {
   "cell_type": "markdown",
   "metadata": {},
   "source": [
    "And finally, we can flip the coordinate system by using *coord_flip()* coord as another component."
   ]
  },
  {
   "cell_type": "code",
   "execution_count": null,
   "metadata": {
    "collapsed": false
   },
   "outputs": [],
   "source": [
    "ggplot(data = diamonds) + geom_bar(mapping = aes(x = cut, fill = clarity), position = \"dodge\") + coord_flip()"
   ]
  },
  {
   "cell_type": "code",
   "execution_count": null,
   "metadata": {
    "collapsed": false
   },
   "outputs": [],
   "source": [
    "# We can also change the coordinate system from cartesian to polar.\n",
    "ggplot(data = diamonds) + geom_bar(mapping = aes(x = cut, fill = clarity), position = \"dodge\") + coord_polar()"
   ]
  },
  {
   "cell_type": "code",
   "execution_count": null,
   "metadata": {
    "collapsed": false
   },
   "outputs": [],
   "source": [
    "# above plot uses takes the x axis by default, we can assign the y axis to the angle of the polar coordinates, too.\n",
    "ggplot(data = diamonds) + \n",
    "  geom_bar(mapping = aes(x = cut, fill = clarity), position = \"dodge\") + \n",
    "  coord_polar(theta=\"y\") + \n",
    "  ylim(0,10000)"
   ]
  },
  {
   "cell_type": "markdown",
   "metadata": {},
   "source": [
    "The difference between a bar chart, pie chart, and a coxcomb chart (a.k.a. polar area diagram, or Nightingale rose diagram) according to the modular approach of ggplot is the coordinate transformation that is used on the geom_bar. Let's see it."
   ]
  },
  {
   "cell_type": "code",
   "execution_count": null,
   "metadata": {
    "collapsed": false
   },
   "outputs": [],
   "source": [
    "# bar chart\n",
    "ggplot(data = diamonds) + geom_bar(mapping = aes(x = cut, fill = cut)) + theme(legend.position=\"none\")"
   ]
  },
  {
   "cell_type": "code",
   "execution_count": null,
   "metadata": {
    "collapsed": false
   },
   "outputs": [],
   "source": [
    "# pie chart\n",
    "ggplot(data = diamonds) + geom_bar(mapping = aes(x = factor(1), fill = cut), width=1) + coord_polar(theta=\"y\") +\n",
    "theme_void()"
   ]
  },
  {
   "cell_type": "code",
   "execution_count": null,
   "metadata": {
    "collapsed": false
   },
   "outputs": [],
   "source": [
    "# polar area diagram\n",
    "ggplot(data = diamonds) + geom_bar(mapping = aes(x = cut, fill = cut), width=1) + coord_polar(theta=\"x\") +\n",
    " theme(legend.position=\"none\")"
   ]
  },
  {
   "cell_type": "markdown",
   "metadata": {},
   "source": [
    "**Now that we know how to manipulate position and coordinates, let's create a population pyramid.**"
   ]
  },
  {
   "cell_type": "code",
   "execution_count": null,
   "metadata": {
    "collapsed": false
   },
   "outputs": [],
   "source": [
    "census = read.csv(\"../../../datasets/census/census2010pyr.csv\")\n",
    "head(census)\n",
    "summary(census)"
   ]
  },
  {
   "cell_type": "code",
   "execution_count": null,
   "metadata": {
    "collapsed": false
   },
   "outputs": [],
   "source": [
    "# First, start with a bar chart that shows the population for each age.\n",
    "# Here, we have to use identity stat to draw the actual population number; we are not counting the number of different ages.\n",
    "ggplot(census, aes(x=age, y=pop)) + geom_bar(stat=\"identity\")"
   ]
  },
  {
   "cell_type": "code",
   "execution_count": null,
   "metadata": {
    "collapsed": false
   },
   "outputs": [],
   "source": [
    "# Now, let's add the sex as fill\n",
    "ggplot(census, aes(x=age, y=pop, fill=sex)) + geom_bar(stat=\"identity\")"
   ]
  },
  {
   "cell_type": "code",
   "execution_count": null,
   "metadata": {
    "collapsed": false
   },
   "outputs": [],
   "source": [
    "# Now, we want to separate males and females on different sides of the x axis\n",
    "# Let's create a layer with females only. Here we see an example of how to use a subset of data\n",
    "# it could also be a totally different data set. \n",
    "ggplot(census, aes(x=age, y=pop, fill=sex)) + \n",
    "geom_bar(data = subset(census, sex==\"Female\"), stat=\"identity\") "
   ]
  },
  {
   "cell_type": "code",
   "execution_count": null,
   "metadata": {
    "collapsed": false
   },
   "outputs": [],
   "source": [
    "#Let's add males, too. \n",
    "ggplot(census, aes(x=age,y=pop, fill=sex)) + \n",
    "geom_bar(data = subset(census, sex==\"Female\"), stat = \"identity\") +\n",
    "geom_bar(data = subset(census, sex==\"Male\"), stat = \"identity\")\n",
    "\n",
    "# There is overlap."
   ]
  },
  {
   "cell_type": "code",
   "execution_count": null,
   "metadata": {
    "collapsed": false
   },
   "outputs": [],
   "source": [
    "# We want males on the other side of the axis, so we can negate the population numbers to achieve that.\n",
    "# We also use identity position to start them from zero, too.\n",
    "ggplot(census, aes(x=age,y=pop, fill=sex)) + \n",
    "geom_bar(data = subset(census, sex==\"Female\"), stat = \"identity\") +\n",
    "geom_bar(data = subset(census, sex==\"Male\"), stat = \"identity\", position = \"identity\", aes(y=-pop))"
   ]
  },
  {
   "cell_type": "code",
   "execution_count": null,
   "metadata": {
    "collapsed": false
   },
   "outputs": [],
   "source": [
    "# And finally, let's flip the coords, use a better theme and adjust labels to positive. \n",
    "ggplot(census, aes(x=age,y=pop, fill=sex)) + \n",
    "geom_bar(data = subset(census, sex==\"Female\"), stat = \"identity\") +\n",
    "geom_bar(data = subset(census, sex==\"Male\"), stat = \"identity\", position = \"identity\", aes(y=-pop)) +\n",
    "coord_flip() +\n",
    "theme_minimal() +\n",
    "scale_y_continuous(labels = abs) +\n",
    "ggtitle(\"U.S. Population (2010 Census)\")\n",
    " "
   ]
  },
  {
   "cell_type": "markdown",
   "metadata": {},
   "source": [
    "This is how a population pyramid looks like. We achieved that by using different layers and components of the ggplot2. This modular approach makes it easy to create complicated plots by adding layers and manipulating different components of them. \n",
    "\n",
    "We could also create a pyramid by using plotly like following:\n"
   ]
  },
  {
   "cell_type": "code",
   "execution_count": null,
   "metadata": {
    "collapsed": false
   },
   "outputs": [],
   "source": [
    "library(plotly)\n",
    "library(dplyr)\n",
    "\n",
    "# create another attribute to separate male and female pop into negative and positive values\n",
    "ncensus <- mutate(census, npop=ifelse(sex==\"Male\",-pop,pop))\n",
    "head(ncensus)\n",
    "\n",
    "plot_ly(ncensus, x = ~npop, y = ~age, color =~sex) %>%\n",
    "  add_bars(orientation = \"h\",\n",
    "        hoverinfo = \"y+text+name\", text = ~pop,         \n",
    "        colors = c(\"pink\", \"lightblue\")) %>%\n",
    "  layout(bargap = 0.1, barmode = \"overlay\", \n",
    "         title = \"Population\", \n",
    "         xaxis = list(tickmode = \"array\", \n",
    "                      tickvals = c(-2000000, -1000000, 0, 1000000, 2000000 ),\n",
    "                      ticktext = c(\"2M\", \"1M\", \"0\", \"1M\", \"2M\"), \n",
    "                      title = \"Population\"), \n",
    "         yaxis = list(title = \"Age\"))"
   ]
  },
  {
   "cell_type": "markdown",
   "metadata": {},
   "source": [
    "We can use this type of plot for other purposes. Let's see an example where we compute the average life expectancy of continents over countries grouped by whether the life expectancy in that country is less than 65 or not. "
   ]
  },
  {
   "cell_type": "code",
   "execution_count": null,
   "metadata": {
    "collapsed": false,
    "scrolled": true
   },
   "outputs": [],
   "source": [
    "co = read.csv(\"../../../datasets/census/countries.csv\")\n",
    "\n",
    "head(co)"
   ]
  },
  {
   "cell_type": "code",
   "execution_count": null,
   "metadata": {
    "collapsed": false
   },
   "outputs": [],
   "source": [
    "# we will have a bar plot with continents in x and life expectancy averages in y\n",
    "ggplot(co, aes(x=as.factor(Continent), y=Life.expectancy, fill=Continent)) + \n",
    "\n",
    "# create two subsets by picking countries with >65 or <= 65 and compute the averages of each group per continent \n",
    "geom_bar(data = subset(co, Life.expectancy > 65), stat = \"summary\", fun.y = \"mean\") +\n",
    "geom_bar(data = subset(co, Life.expectancy <= 65), stat = \"summary\", fun.y = \"mean\", position = \"identity\", aes(y=-Life.expectancy)) +\n",
    "\n",
    "# put a zero line \n",
    "geom_abline(slope=0) +\n",
    "\n",
    "# arrange the tick marks \n",
    "scale_y_continuous(labels = abs, limits=c(-90,90), breaks=seq(-90,90,10)) +\n",
    "\n",
    "# flip the coord system \n",
    "coord_flip() +\n",
    "\n",
    "# make it look nice \n",
    "ylab(\"averages for 65 and younger vs 66 and older\") + xlab(\"Continents\") +\n",
    "theme_minimal() +\n",
    "ggtitle(\"Average Life Expectancy in Continents\") +\n",
    "theme(legend.position=\"none\")"
   ]
  },
  {
   "cell_type": "markdown",
   "metadata": {
    "collapsed": true
   },
   "source": [
    "In the above plot, left hand side shows the average life expectancy for continents averaged over those countries where life expectancy is less than 65. Those countries are apparently only in North America, Asia, and Africa. Right hand side shows the the same averaged over countries with life expectancy more than 65. "
   ]
  }
 ],
 "metadata": {
  "kernelspec": {
   "display_name": "R",
   "language": "R",
   "name": "ir"
  },
  "language_info": {
   "codemirror_mode": "r",
   "file_extension": ".r",
   "mimetype": "text/x-r-source",
   "name": "R",
   "pygments_lexer": "r",
   "version": "3.3.2"
  }
 },
 "nbformat": 4,
 "nbformat_minor": 2
}
