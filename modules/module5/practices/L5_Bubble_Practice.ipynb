{
 "cells": [
  {
   "cell_type": "markdown",
   "metadata": {},
   "source": [
    "## Module 5 Practice - Bubble Charts\n",
    "\n",
    "In this practice, we will create bubble charts in ggplot2 using the modular approach. We will also see how we could create them using standard R plots and plotly. A bubble chart is a special type of scatter plot where each point mark is encoded with usually two visual variables (e.g. color and size) to represent two attributes of a data point. A famous interactive and animated bubble chart is the Gapminder that you can see and interact [here](http://gapminder.org/tools). \n",
    "\n",
    "Let's start with the crime data."
   ]
  },
  {
   "cell_type": "code",
   "execution_count": null,
   "metadata": {
    "collapsed": false
   },
   "outputs": [],
   "source": [
    "library(ggplot2)\n",
    "crime = read.csv(\"../../../datasets/crime.csv\")\n",
    "\n",
    "head(crime)"
   ]
  },
  {
   "cell_type": "code",
   "execution_count": null,
   "metadata": {
    "collapsed": false
   },
   "outputs": [],
   "source": [
    "# This is how we would create it in R\n",
    "\n",
    "# first compute the radius of the circles to represent population\n",
    "radius <- sqrt(crime$population/pi)\n",
    "# then draw symbols (in this case circles) given the two attributes as coordinates, and the third one as the size.\n",
    "symbols(crime$murder, crime$burglary, circles=radius, inches=0.25, fg=\"white\", bg=\"red\", xlab=\"Murder Rate\", ylab=\"Burglary Rate\")\n",
    "# Add state names to the plot\n",
    "text(crime$murder, crime$burglary, crime$state, cex=0.5)"
   ]
  },
  {
   "cell_type": "markdown",
   "metadata": {},
   "source": [
    "It is a short piece of code but in terms of modularity, it does not have separable components to separate data, transformation, visual mappings, etc. \n",
    "Let's do the same in plotly. "
   ]
  },
  {
   "cell_type": "code",
   "execution_count": null,
   "metadata": {
    "collapsed": false
   },
   "outputs": [],
   "source": [
    "library(plotly)\n",
    "plot_ly(crime, x = ~murder, y = ~burglary, type = 'scatter', mode = 'markers', size = ~population,\n",
    "        sizes = c(10, 50), marker = list(opacity = 0.5, sizemode = 'diameter'),\n",
    "        hoverinfo = 'text', text = ~paste(population)) %>%\n",
    "        add_text(text = ~state, textposition = 'middle', size=8) %>%\n",
    " layout(title = 'Crime Rates by State',\n",
    "         xaxis = list(title = 'Murder Rate'),\n",
    "         yaxis = list(title = 'Burglary Rate'))"
   ]
  },
  {
   "cell_type": "markdown",
   "metadata": {},
   "source": [
    "Plotly is a little better; we can have separate *traces* that act like layers. \n",
    "\n",
    "Let's create the same plot with ggplot2. "
   ]
  },
  {
   "cell_type": "code",
   "execution_count": null,
   "metadata": {
    "collapsed": false
   },
   "outputs": [],
   "source": [
    "# It is a scatter plot, so we'll use geom_point(). We'll encode murder and burglary as position, and population as size.\n",
    "ggplot(crime, aes(x=murder, y=burglary, size=population)) + geom_point(colour=\"red\",alpha=0.5) + scale_size(range = c(1,20)) +\n",
    "theme(legend.position=\"none\")"
   ]
  },
  {
   "cell_type": "code",
   "execution_count": null,
   "metadata": {
    "collapsed": false
   },
   "outputs": [],
   "source": [
    "# Add state names as a separate layer using geom_text, and the axus labels \n",
    "ggplot(crime, aes(x=murder, y=burglary, size=population)) + geom_point(colour=\"red\",alpha=0.5) + scale_size(range = c(1,20)) +\n",
    "geom_text(size=2, aes(label=state)) +\n",
    "xlab(\"Murder rate\") + ylab(\"Burglary rate\") +\n",
    "ylim(200,1400) + xlim(0,11) +\n",
    "theme(legend.position=\"none\")"
   ]
  },
  {
   "cell_type": "code",
   "execution_count": null,
   "metadata": {
    "collapsed": false
   },
   "outputs": [],
   "source": [
    "# We can add another visual variable: color will encode motor_vehicle_theft\n",
    "ggplot(crime, aes(x=murder, y=burglary, size=population)) + geom_point(aes(colour=motor_vehicle_theft),alpha=0.8) + scale_size(range = c(1,20)) +\n",
    "geom_text(size=2, aes(label=state)) +\n",
    "xlab(\"Murder rate\") + ylab(\"Burglary rate\") +\n",
    "ylim(200,1400) + xlim(0,11) +\n",
    "scale_color_continuous(low=\"yellow\", high=\"purple\") +\n",
    "theme(legend.position=\"none\")"
   ]
  },
  {
   "cell_type": "markdown",
   "metadata": {
    "collapsed": true
   },
   "source": [
    "Hopefully, using the ggplot2 with separated components is easier to understand and code a variety of plots."
   ]
  }
 ],
 "metadata": {
  "anaconda-cloud": {},
  "kernelspec": {
   "display_name": "R",
   "language": "R",
   "name": "ir"
  },
  "language_info": {
   "codemirror_mode": "r",
   "file_extension": ".r",
   "mimetype": "text/x-r-source",
   "name": "R",
   "pygments_lexer": "r",
   "version": "3.3.2"
  }
 },
 "nbformat": 4,
 "nbformat_minor": 1
}
