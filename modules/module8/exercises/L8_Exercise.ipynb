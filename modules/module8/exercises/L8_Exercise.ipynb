{
 "cells": [
  {
   "cell_type": "markdown",
   "metadata": {},
   "source": [
    "# Module 8 Exercise - Data Storytelling\n",
    "\n",
    "In this exercise, you will create a narrative visualization with a data set of your choosing. **You can choose any data set** you can find on the interner or a data set related to your current line of work. You will create visualizations to give a message, make a point, or convince your audience by using all the techniques we have seen throughout the course. \n",
    "\n",
    "Here is a list of your tasks:\n",
    "\n",
    "1. Find a data set and upload it to your exercises folder in module 8. \n",
    "2. Write your R scripts in this exercise notebook to create your visualizations and save them under exercises folder.\n",
    "3. Create a narrative visualization document using any software you want (Word, PowerPoint, Photoshop, etc.) by pasting your visualizations and creating all necessary elements (captions, text annotations, layout, etc.) \n",
    "4. Save your end product as a pdf file and upload it to your exercises folder (name it *L8_Exercise.pdf*)\n",
    "\n",
    "Make sure that you **start with a clear message** in mind and filter and format your data accordingly, and create the visualizations that will support that message. \n",
    "\n",
    "You need to have at least one **major** visualization, and a number of supporting smaller graphs (2, 3, or more), and a clear layout, and enough text annotations and captions to make your message clear. You can choose any type of visualization that you believe will be most **effective** for the type of data and the message you have chosen. "
   ]
  },
  {
   "cell_type": "code",
   "execution_count": 9,
   "metadata": {
    "collapsed": false
   },
   "outputs": [
    {
     "data": {},
     "metadata": {},
     "output_type": "display_data"
    },
    {
     "data": {
      "text/html": [
       "<strong>png:</strong> 2"
      ],
      "text/latex": [
       "\\textbf{png:} 2"
      ],
      "text/markdown": [
       "**png:** 2"
      ],
      "text/plain": [
       "png \n",
       "  2 "
      ]
     },
     "metadata": {},
     "output_type": "display_data"
    }
   ],
   "source": [
    "# this is how you save a plot to a file\n",
    "library(ggplot2)\n",
    "\n",
    "# comment this out to see the plot in the notebook \n",
    "png(filename=\"myplot.png\")\n",
    "\n",
    "# your plot here..\n",
    "qplot(carat, price, data = diamonds)\n",
    "\n",
    "# comment this out to see the plot in the notebook\n",
    "dev.off()"
   ]
  },
  {
   "cell_type": "markdown",
   "metadata": {},
   "source": [
    "Make sure you have all axis labels set in R notebook before you save your plot. You can adjust width and height when saving your plots.  Here is a reference to png() function:\n",
    "https://stat.ethz.ch/R-manual/R-devel/library/grDevices/html/png.html"
   ]
  },
  {
   "cell_type": "code",
   "execution_count": 10,
   "metadata": {
    "collapsed": true
   },
   "outputs": [],
   "source": [
    "# Read your data here; clean it up, reformat it, filter it, sort it, group it, etc.\n",
    "\n",
    "\n",
    "# <- ALL YOUR PLOTTING CODE HERE ->"
   ]
  }
 ],
 "metadata": {
  "kernelspec": {
   "display_name": "R",
   "language": "R",
   "name": "ir"
  },
  "language_info": {
   "codemirror_mode": "r",
   "file_extension": ".r",
   "mimetype": "text/x-r-source",
   "name": "R",
   "pygments_lexer": "r",
   "version": "3.3.2"
  }
 },
 "nbformat": 4,
 "nbformat_minor": 2
}
