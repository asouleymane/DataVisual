{
 "cells": [
  {
   "cell_type": "markdown",
   "metadata": {},
   "source": [
    "## Module 7 - Network Practice\n",
    "\n",
    "We will see how to create network and tree visualizations using igraph and networkD3. Here are some references:\n",
    "\n",
    "- [igraph manual pages](http://igraph.org/r/doc/)\n",
    "- [igraph reference](https://cran.r-project.org/web/packages/igraph/igraph.pdf)\n",
    "- [networkD3 reference](https://cran.r-project.org/web/packages/networkD3/networkD3.pdf)\n",
    "- [network data sources](http://www-personal.umich.edu/~mejn/netdata/)\n",
    "\n",
    "Let's start with a simple network."
   ]
  },
  {
   "cell_type": "code",
   "execution_count": null,
   "metadata": {
    "collapsed": false
   },
   "outputs": [],
   "source": [
    "library(igraph)\n",
    "\n",
    "# we can create a graph by giving a list of edges that are represented as vertex pairs. \n",
    "edges <- c(1,2, 3,2, 2,4)\n",
    "# now convert it to a directed graph\n",
    "g<-graph(edges, n=max(edges), directed=TRUE)\n",
    "\n",
    "# there are 3 pairs, so there will be three edges \n",
    "plot(g)"
   ]
  },
  {
   "cell_type": "code",
   "execution_count": null,
   "metadata": {
    "collapsed": false
   },
   "outputs": [],
   "source": [
    "# We can find out some statistics about a graph\n",
    "\n",
    "# vertex count\n",
    "vcount(g)\n",
    "\n",
    "# edge count\n",
    "ecount(g)\n",
    "\n",
    "# neighbors of the first vertex \n",
    "neighbors(g, V(g)[1], mode = 1)\n",
    "\n",
    "# statistics about neighbors\n",
    "incident(g,V(g)[2], mode=c(\"all\", \"out\", \"in\", \"total\"))\n",
    "\n",
    "# are these vertices connected ? \n",
    "are.connected(g, V(g)[1], V(g)[3])\n",
    "\n",
    "# get a list of graph edges \n",
    "get.edgelist(g)\n",
    "\n",
    "# List of vertices \n",
    "V(g)\n"
   ]
  },
  {
   "cell_type": "code",
   "execution_count": null,
   "metadata": {
    "collapsed": false
   },
   "outputs": [],
   "source": [
    "# We can read an edge list from a text file.\n",
    "# This is the file content:\n",
    "# A,B\n",
    "# A,G\n",
    "# A,Y\n",
    "# G,Y\n",
    "\n",
    "t <-read.csv(\"../../../datasets/networks/graph1.txt\", header=FALSE)\n",
    "head(t)\n",
    "g2 <- graph.data.frame(t)\n",
    "plot(g2)"
   ]
  },
  {
   "cell_type": "code",
   "execution_count": null,
   "metadata": {
    "collapsed": false
   },
   "outputs": [],
   "source": [
    "# We can also read an adjacency matrix from a text file. \n",
    "# This is a sample row in the file showing the connectivity of \n",
    "# the first vertex to the other vertices:\n",
    "\n",
    "# 0 1 1 1 0 0 0 0 1 0 0 1 0\n",
    "\n",
    "adj_matrix <- as.matrix(read.table(\"../../../datasets/networks/SAcountries.txt\",header=FALSE, sep=\" \"))\n",
    "adj_matrix\n",
    "\n",
    "# We also need names; the above matrix data represents neighborhood relationship \n",
    "# between the countries in South America. \n",
    "# Let's read the names from a different file\n",
    "SAnames <- read.csv(\"../../../datasets/networks/SAcountrylist.txt\", header=FALSE)\n",
    "head(SAnames)"
   ]
  },
  {
   "cell_type": "code",
   "execution_count": null,
   "metadata": {
    "collapsed": false
   },
   "outputs": [],
   "source": [
    "# Let's build an undirected simple (nonweighted) graph from the above matrix\n",
    "gSA <-  graph_from_adjacency_matrix(adj_matrix, weighted = NULL,  mode = \"undirected\")\n",
    "\n",
    "# remove loops\n",
    "gSA <- simplify(gSA)\n",
    "# set labels and degrees of vertices\n",
    "gSA <- set_vertex_attr(gSA, \"label\", value= as.vector(SAnames$V1))\n",
    "# create an attribute to hold degree for each vertex\n",
    "V(gSA)$degree <- degree(gSA)\n",
    "# do a force-directed layout \n",
    "layout1 <- layout.fruchterman.reingold(gSA)\n",
    "# draw the newtwork \n",
    "plot(gSA, layout=layout1)"
   ]
  },
  {
   "cell_type": "code",
   "execution_count": null,
   "metadata": {
    "collapsed": false
   },
   "outputs": [],
   "source": [
    "# another layout \n",
    "plot(gSA, layout=layout.kamada.kawai)\n"
   ]
  },
  {
   "cell_type": "code",
   "execution_count": null,
   "metadata": {
    "collapsed": false
   },
   "outputs": [],
   "source": [
    "# this is an example of a more complicated graph, it'll take a while to draw\n",
    "gb <- barabasi.game(1000, power=1)\n",
    "l1 <- layout.fruchterman.reingold(gb)\n",
    "l2 <- layout.kamada.kawai\n",
    "plot(gb, layout=l1, vertex.size=2, vertex.label=NA, edge.arrow.size=.2)\n",
    "plot(gb, layout=l2, vertex.size=2, vertex.label=NA, edge.arrow.size=.2)"
   ]
  },
  {
   "cell_type": "markdown",
   "metadata": {},
   "source": [
    "Let's do similar layouts in networkD3. This library produces interactive graphs, you can click on a node and move it. "
   ]
  },
  {
   "cell_type": "code",
   "execution_count": null,
   "metadata": {
    "collapsed": false
   },
   "outputs": [],
   "source": [
    "library(networkD3)\n",
    "\n",
    "# Create edge data\n",
    "src <- c(\"A\", \"A\", \"A\", \"A\",\n",
    "        \"B\", \"B\", \"C\", \"C\", \"D\")\n",
    "target <- c(\"B\", \"C\", \"D\", \"J\",\n",
    "            \"E\", \"F\", \"G\", \"H\", \"I\")\n",
    "networkData <- data.frame(src, target)\n",
    "\n",
    "# Plot\n",
    "simpleNetwork(networkData, height=300)"
   ]
  },
  {
   "cell_type": "code",
   "execution_count": null,
   "metadata": {
    "collapsed": false
   },
   "outputs": [],
   "source": [
    "# We can also convert the igraph graphs to D3 \n",
    "gSA_d3 <- igraph_to_networkD3(gSA)\n",
    "\n",
    "# Create force directed network plot - you can zoom into this graph with mouse \n",
    "forceNetwork(Links = gSA_d3$links, Nodes = gSA_d3$nodes, Source = 'source', Target = 'target', \n",
    "             NodeID = 'name', Group = 'name', height=500, zoom=TRUE)"
   ]
  },
  {
   "cell_type": "code",
   "execution_count": null,
   "metadata": {
    "collapsed": false
   },
   "outputs": [],
   "source": [
    "# This is the Les Miserables data set that comes with the library \n",
    "data(MisLinks)\n",
    "data(MisNodes)\n",
    "\n",
    "# Plot\n",
    "forceNetwork(Links = MisLinks, Nodes = MisNodes,\n",
    "            Source = \"source\", Target = \"target\",\n",
    "            Value = \"value\", NodeID = \"name\",\n",
    "            Group = \"group\", opacity = 0.8, height=600)"
   ]
  },
  {
   "cell_type": "code",
   "execution_count": null,
   "metadata": {
    "collapsed": false
   },
   "outputs": [],
   "source": [
    "# And this is an example of a radial network \n",
    "URL <- paste0(\"https://cdn.rawgit.com/christophergandrud/networkD3/\",\"master/JSONdata//flare.json\")\n",
    "\n",
    "## Convert to list format\n",
    "Flare <- jsonlite::fromJSON(URL, simplifyDataFrame = FALSE)\n",
    "\n",
    "# Use subset of data for more readable diagram\n",
    "Flare$children = Flare$children[1:3]\n",
    "\n",
    "radialNetwork(List = Flare, fontSize = 10, opacity = 1, height=600)"
   ]
  },
  {
   "cell_type": "code",
   "execution_count": null,
   "metadata": {
    "collapsed": false
   },
   "outputs": [],
   "source": [
    "#We can also read graphs in GML format. \n",
    "# This example contains an undirected social network of frequent\n",
    "# associations between 62 dolphins in a community living off Doubtful Sound,\n",
    "# New Zealand, as compiled by Lusseau et al. (2003). \n",
    "gml_data <- read.graph(\"../../../datasets/networks/dolphins.gml\", format=c(\"gml\"))\n",
    "\n",
    "gml_data <- simplify(gml_data)\n",
    "\n",
    "dol <- igraph_to_networkD3(gml_data)\n",
    "\n",
    "forceNetwork(Links = dol$links, Nodes = dol$nodes, NodeID = \"name\", Group = \"name\", height=600, zoom=TRUE)\n"
   ]
  }
 ],
 "metadata": {
  "kernelspec": {
   "display_name": "R",
   "language": "R",
   "name": "ir"
  },
  "language_info": {
   "codemirror_mode": "r",
   "file_extension": ".r",
   "mimetype": "text/x-r-source",
   "name": "R",
   "pygments_lexer": "r",
   "version": "3.3.2"
  }
 },
 "nbformat": 4,
 "nbformat_minor": 2
}
