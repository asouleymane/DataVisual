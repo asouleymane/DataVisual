{
 "cells": [
  {
   "cell_type": "markdown",
   "metadata": {},
   "source": [
    "# Module Seven: Network Visualization\n",
    "\n",
    "## Topics covered\n",
    "   - Graph theory\n",
    "   - Basic graph drawing and layouts\n",
    "   - Network Visualization and analysis\n",
    "   - Trees (radial, treemaps, etc.)\n",
    "   - Practice and exercise     \n",
    "     - igraph and D3 examples of network visualization\n",
    " \n",
    "\n",
    "\n",
    "## Notebook Shortcuts\n",
    "\n",
    "### Labs\n",
    "- [Network Visualization](labs/L7_DataViz_Network.ipynb)\n",
    "- No slides.\n",
    "\n",
    "\n",
    "### Practices\n",
    "- [L7 Network Practice](practices/L7_Network_Practice.ipynb)\n",
    "\n",
    "\n",
    "### Exercises\n",
    "- [L7 Exercise](exercises/L7_Exercise.ipynb)\n",
    "\n",
    "\n",
    "\n",
    "## Readings and Links\n",
    "- Embedded in the lab and practice notebooks\n",
    "\n",
    "\n",
    "## Video topics\n",
    "- **Concept Video**: No video.\n",
    "\n",
    "\n",
    "\n",
    "## Data Sets\n",
    "Path: `~/datasets/`\n",
    "\n",
    "\n",
    "## Suggested Schedule\n",
    "\n",
    "### Monday\n",
    "- **Lab Notebook**: L7_DataViz_Network.ipynb\n",
    "- **Practice Notebook**: L7_Network_Practice.ipynb\n",
    "\n",
    "\n",
    "### Wednesday\n",
    "- Discussion\n",
    "\n",
    "### Thursday\n",
    "- Discussion Responses\n",
    "\n",
    "### Friday/Saturday/Sunday\n",
    "- **Exercise**: L7_Exercise.ipynb\n"
   ]
  }
 ],
 "metadata": {
  "kernelspec": {
   "display_name": "Python 3",
   "language": "python",
   "name": "python3"
  },
  "language_info": {
   "codemirror_mode": {
    "name": "ipython",
    "version": 3
   },
   "file_extension": ".py",
   "mimetype": "text/x-python",
   "name": "python",
   "nbconvert_exporter": "python",
   "pygments_lexer": "ipython3",
   "version": "3.4.5"
  }
 },
 "nbformat": 4,
 "nbformat_minor": 0
}
