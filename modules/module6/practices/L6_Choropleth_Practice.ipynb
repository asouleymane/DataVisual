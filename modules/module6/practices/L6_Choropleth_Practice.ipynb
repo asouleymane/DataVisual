{
 "cells": [
  {
   "cell_type": "markdown",
   "metadata": {},
   "source": [
    "## Module 6 Practice - Choropleth Maps\n",
    "\n",
    "\n",
    "In this notebook, we will see examples of choropleth maps using ggplot.\n",
    "\n",
    "Maps are represented by very detailed polygons in vector form. Let's first start with simple polygons. "
   ]
  },
  {
   "cell_type": "code",
   "execution_count": null,
   "metadata": {
    "collapsed": false
   },
   "outputs": [],
   "source": [
    "library(ggplot2)\n",
    "library(maps)\n",
    "library(ggmap)\n",
    "library(mapproj)\n",
    "\n",
    "\n",
    "# To color polygons, we usually need two data frames; \n",
    "# one contains the coordinates of each polygon (positions),  \n",
    "# and the other one contains the values associated with each polygon (values).  \n",
    "# A common variable links the two together (ids).\n",
    "\n",
    "# Made up ids; these connect values to polygons\n",
    "ids <- factor(c(\"1.1\", \"2.1\", \"1.2\", \"2.2\", \"1.3\", \"2.3\"))\n",
    "\n",
    "# Some made up values: the colors will represent these values \n",
    "values <- data.frame(id = ids, value = c(3, 3.1, 3.1, 3.2, 3.15, 3.5))\n",
    "\n",
    "# coordinates of some polygons\n",
    "positions <- data.frame(id = rep(ids, each = 4),\n",
    "  x = c(2, 1, 1.1, 2.2, 1, 0, 0.3, 1.1, 2.2, 1.1, 1.2, 2.5, 1.1, 0.3,\n",
    "  0.5, 1.2, 2.5, 1.2, 1.3, 2.7, 1.2, 0.5, 0.6, 1.3),\n",
    "  y = c(-0.5, 0, 1, 0.5, 0, 0.5, 1.5, 1, 0.5, 1, 2.1, 1.7, 1, 1.5,\n",
    "  2.2, 2.1, 1.7, 2.1, 3.2, 2.8, 2.1, 2.2, 3.3, 3.2))\n",
    "\n",
    "head(values)\n",
    "head(positions)"
   ]
  },
  {
   "cell_type": "code",
   "execution_count": null,
   "metadata": {
    "collapsed": false
   },
   "outputs": [],
   "source": [
    "# Let's draw and color them: map_id=id is what associates the two data frames\n",
    "ggplot(data = values, aes(fill = value)) +\n",
    "# common variable is id\n",
    "geom_map(aes(map_id = id), map = positions) +\n",
    "expand_limits(positions)"
   ]
  },
  {
   "cell_type": "markdown",
   "metadata": {},
   "source": [
    "Now, let's do the same for US map to visualize the crime data set. We need to create lowercase state names, and they will serve as the common variable between the map data and the crime data set. "
   ]
  },
  {
   "cell_type": "code",
   "execution_count": null,
   "metadata": {
    "collapsed": false
   },
   "outputs": [],
   "source": [
    "head(USArrests)\n",
    "\n",
    "# First create lowercase state names, because these will be the \"IDs\" that will connect \n",
    "# the crimes data to the map data that also contains lowercase state names and their polygon coordinates. \n",
    "crimes <- data.frame(state = tolower(rownames(USArrests)), USArrests)\n",
    "# convert arrest variables in the columns to a single column to enable faceting later. \n",
    "crimesm <- reshape2::melt(crimes[,c(1,2,3,5)], id = 1)\n",
    "head(crimes)\n",
    "head(crimesm)"
   ]
  },
  {
   "cell_type": "code",
   "execution_count": null,
   "metadata": {
    "collapsed": true
   },
   "outputs": [],
   "source": [
    "# Get the map data for US states\n",
    "states_map <- map_data(\"state\")"
   ]
  },
  {
   "cell_type": "code",
   "execution_count": null,
   "metadata": {
    "collapsed": false
   },
   "outputs": [],
   "source": [
    "# \"state\" is the common variable (ids)\n",
    "ggplot(data=crimes, aes(fill=Murder)) + \n",
    "# color will encode Murder, state boundaries will be white and size of 0.1 \n",
    "geom_map(map=states_map, aes(map_id=state), color=\"white\", size=0.1) +\n",
    "# coordinate limits of the map \n",
    "expand_limits(x = states_map$long, y = states_map$lat) + \n",
    "# useful map projection \n",
    "coord_map(\"polyconic\") +\n",
    "# remove grid and coord info \n",
    "theme_void() "
   ]
  },
  {
   "cell_type": "code",
   "execution_count": null,
   "metadata": {
    "collapsed": false
   },
   "outputs": [],
   "source": [
    "# Similarly, we can do small multiples \n",
    "ggplot(data=crimesm, aes(fill = value)) +\n",
    "geom_map(map = states_map, aes(map_id = state), color=\"white\", size=0.1) +\n",
    "expand_limits(x = states_map$long, y = states_map$lat) +\n",
    "facet_wrap(~variable, ncol=2) + \n",
    "coord_map(\"polyconic\") +\n",
    "theme_void()"
   ]
  },
  {
   "cell_type": "code",
   "execution_count": null,
   "metadata": {
    "collapsed": false
   },
   "outputs": [],
   "source": [
    "# Let's get another data set \n",
    "agex <- read.csv(\"../../../datasets/2011_us_ag_exports.csv\")\n",
    "head(agex)"
   ]
  },
  {
   "cell_type": "code",
   "execution_count": null,
   "metadata": {
    "collapsed": false
   },
   "outputs": [],
   "source": [
    "library(dplyr) \n",
    "# Let's create lowercase state names \n",
    "agex <- mutate(agex, state = tolower(state))\n",
    "head(agex)"
   ]
  },
  {
   "cell_type": "code",
   "execution_count": null,
   "metadata": {
    "collapsed": false
   },
   "outputs": [],
   "source": [
    "# Let's draw and color them\n",
    "ggplot() +\n",
    "geom_map(data=agex, map = states_map, aes(fill = total.exports, map_id = state), color=\"white\", size=0.3) +\n",
    "expand_limits(x = states_map$long, y = states_map$lat) +\n",
    "coord_map(\"polyconic\") +\n",
    "theme_void() +\n",
    "ggtitle(\"US Agriculture Exports\") "
   ]
  },
  {
   "cell_type": "code",
   "execution_count": null,
   "metadata": {
    "collapsed": false
   },
   "outputs": [],
   "source": [
    "# Pick a few variables\n",
    "sub <- agex[, c(2,14,15,16,17)]\n",
    "head(sub)\n",
    "# melt them into a single variable\n",
    "subm <- reshape2::melt(sub, id = 1)\n",
    "head(subm)"
   ]
  },
  {
   "cell_type": "code",
   "execution_count": null,
   "metadata": {
    "collapsed": false
   },
   "outputs": [],
   "source": [
    "ggplot(subm, aes(map_id = state)) +\n",
    "geom_map(aes(fill = value), map = states_map, color=\"white\", size=0.1) +\n",
    "expand_limits(x = states_map$long, y = states_map$lat) + \n",
    "scale_fill_continuous(low='thistle2', high='darkblue') +\n",
    "coord_map(\"polyconic\") + \n",
    "facet_wrap(~variable, ncol=2) +\n",
    "theme_void() +\n",
    "theme(legend.position=\"None\") + \n",
    "ggtitle(\"US Agriculture Exports\") \n"
   ]
  },
  {
   "cell_type": "code",
   "execution_count": null,
   "metadata": {
    "collapsed": false
   },
   "outputs": [],
   "source": [
    "# Let's compare percentages \n",
    "sub <-mutate(sub, corn=corn/sum(corn))\n",
    "sub <-mutate(sub, wheat=wheat/sum(wheat))\n",
    "sub <-mutate(sub, cotton=cotton/sum(cotton))\n",
    "sub <-mutate(sub, total.veggies=total.veggies/sum(total.veggies))\n",
    "subm <- reshape2::melt(sub, id = 1)\n",
    "\n",
    "ggplot(subm, aes(map_id = state)) +\n",
    "geom_map(aes(fill = value), map = states_map, color=\"white\", size=0.1) +\n",
    "expand_limits(x = states_map$long, y = states_map$lat) + \n",
    "scale_fill_continuous(low='thistle2', high='darkblue') +\n",
    "coord_map(\"polyconic\") + \n",
    "facet_wrap(~variable, ncol=2) +\n",
    "theme_void() +\n",
    "theme(legend.position=\"None\") + \n",
    "ggtitle(\"US Agriculture Exports\") \n"
   ]
  }
 ],
 "metadata": {
  "kernelspec": {
   "display_name": "R",
   "language": "R",
   "name": "ir"
  },
  "language_info": {
   "codemirror_mode": "r",
   "file_extension": ".r",
   "mimetype": "text/x-r-source",
   "name": "R",
   "pygments_lexer": "r",
   "version": "3.3.2"
  }
 },
 "nbformat": 4,
 "nbformat_minor": 2
}
