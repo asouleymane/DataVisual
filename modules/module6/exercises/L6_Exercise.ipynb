{
 "cells": [
  {
   "cell_type": "markdown",
   "metadata": {},
   "source": [
    "# Module 6 R Exercise\n",
    "\n",
    "You will create map visualizations using ggmap and ggplot2. First let's start with a simple data set; number of visitors to United Stated from 2006 to 2015. "
   ]
  },
  {
   "cell_type": "code",
   "execution_count": null,
   "metadata": {
    "collapsed": false
   },
   "outputs": [],
   "source": [
    "# First, read the data and make sure the first column is character and the rest is numeric\n",
    "vis <- read.csv(\"US_visitors.csv\",colClasses=c(\"character\",rep(\"numeric\",10)))\n",
    "\n",
    "head(vis)"
   ]
  },
  {
   "cell_type": "markdown",
   "metadata": {},
   "source": [
    "We will create a **flow map** to visualize number of visitors from different continents. For that, we'll need coordinates. *ggmap* library has functions to look up for *geocodes* of locations; these locations can be addresses, city names, or even continent names. \n",
    "Let's lookup continents' coordinates information by using *mutate_geocode* function that will augment our data frame."
   ]
  },
  {
   "cell_type": "code",
   "execution_count": null,
   "metadata": {
    "collapsed": false
   },
   "outputs": [],
   "source": [
    "library(ggplot2)\n",
    "library(ggmap)\n",
    "\n",
    "# geo coordinates lookup for the place names in the Region attribute \n",
    "vis <- mutate_geocode(vis, Region)\n",
    "head(vis)\n",
    "# get the map \n",
    "world <- map_data(\"world\")"
   ]
  },
  {
   "cell_type": "code",
   "execution_count": null,
   "metadata": {
    "collapsed": false
   },
   "outputs": [],
   "source": [
    "# get coordinates for US \n",
    "us <- geocode(\"United States\")"
   ]
  },
  {
   "cell_type": "markdown",
   "metadata": {},
   "source": [
    "**Exercise 1:** Create a flow map that shows the number of visitors to US from different continents. Make sure color encodes region and size encodes number of visitors in 2015."
   ]
  },
  {
   "cell_type": "code",
   "execution_count": null,
   "metadata": {
    "collapsed": false
   },
   "outputs": [],
   "source": [
    "# Now first plot the world map \n",
    "ggplot() + \n",
    "geom_map(data=<- YOUR CODE HERE ->,map=<- YOUR CODE HERE ->, aes(<- YOUR CODE HERE ->), <- YOUR CODE HERE ->) +\n",
    "\n",
    "# then plot the flow curves from continents to the same point in US. \n",
    "geom_curve(<- YOUR CODE HERE ->), \n",
    "           curvature=0.1, arrow=arrow(length=unit(0.05, \"npc\"))) +\n",
    "# add coords themes etc. \n",
    "coord_equal() +\n",
    "theme_void() + theme(legend.position=\"None\")"
   ]
  },
  {
   "cell_type": "markdown",
   "metadata": {},
   "source": [
    "**Exercise 2:** All flow curves end at the same point in US and get superposed. Instead of using a single endpoint, let's use multiple endpoints in US to make it look better. Go to [latlong.net](http://www.latlong.net/) and choose good endpoints for each continent, and then add their coordinates to your data frame A ENDLON AND ENDLAT attributes and redraw. "
   ]
  },
  {
   "cell_type": "code",
   "execution_count": null,
   "metadata": {
    "collapsed": true
   },
   "outputs": [],
   "source": [
    "# <- YOUR CODE HERE ->"
   ]
  },
  {
   "cell_type": "markdown",
   "metadata": {},
   "source": [
    "Now, we will work on the flight data from the L6_Projections_Practice. We will visualize flights. Let's get the data first. "
   ]
  },
  {
   "cell_type": "code",
   "execution_count": null,
   "metadata": {
    "collapsed": false
   },
   "outputs": [],
   "source": [
    "library(dplyr)\n",
    "library(sp)\n",
    "library(geosphere)\n",
    "\n",
    "# airport codes and coordinates \n",
    "airports <- read.csv(\"../../../datasets/spatial/airports.csv\", as.is=TRUE, header=TRUE)\n",
    "# flight destinations and counts \n",
    "flights <- read.csv(\"../../../datasets/spatial/flights.csv\", as.is=TRUE, header=TRUE)\n",
    "airports$lat <- as.numeric(airports$lat)\n",
    "airports$long <- as.numeric(airports$long)\n",
    "# get airport locations\n",
    "airport_locs <- airports[, c(\"iata\",\"long\", \"lat\")]\n",
    "\n",
    "# Link airport lat long to origin and destination\n",
    "OD <- left_join(flights, airport_locs, by=c(\"airport1\"=\"iata\"))\n",
    "OD <- left_join(OD, airport_locs, by=c(\"airport2\"=\"iata\"))\n",
    "head(OD)"
   ]
  },
  {
   "cell_type": "markdown",
   "metadata": {},
   "source": [
    "**Exercise 3:** Add another attribute to the OD data frame that shows the distance between two airports and visualize only those routes that are longer than 500 miles. "
   ]
  },
  {
   "cell_type": "code",
   "execution_count": null,
   "metadata": {
    "collapsed": false
   },
   "outputs": [],
   "source": [
    "# This is how we find the geodesic distance between two pairs of coordinates using geosphere library\n",
    "# Compute the geodesic distance between airports \n",
    "dd <- data.frame(Distance=distGeo(matrix(c(OD$long.x, OD$lat.x), ncol = 2), matrix(c(OD$long.y, OD$lat.y), ncol = 2)))\n",
    "# convert meters to miles \n",
    "dd <- dd*0.000621371 \n",
    "# Now add this to the OD data frame as another attribute and visualize only those routes that are longer than 500 miles. \n",
    "head(dd)\n",
    "\n",
    "\n",
    "# <- YOUR CODE HERE ->\n",
    "\n"
   ]
  },
  {
   "cell_type": "markdown",
   "metadata": {},
   "source": [
    "**Exercise 4:** Let's read the Missouri County population data set and create a choropleth map that shows the population in year 2000 county by county. "
   ]
  },
  {
   "cell_type": "code",
   "execution_count": null,
   "metadata": {
    "collapsed": false
   },
   "outputs": [],
   "source": [
    "moco <- read.csv(\"../../../datasets/spatial/MO_2009_County.csv\")\n",
    "\n",
    "head(moco)"
   ]
  },
  {
   "cell_type": "code",
   "execution_count": null,
   "metadata": {
    "collapsed": false
   },
   "outputs": [],
   "source": [
    "# The folllowing is in order to create a \"region\" common id.\n",
    "# Get the Missouri counties map and rename the county column to \"region\"\n",
    "mo_map <- map_data(\"county\",\"missouri\")\n",
    "mo_map <- mo_map[ ,-5]\n",
    "names(mo_map)[5] <- 'region'\n",
    "\n",
    "# make the county names lowercase\n",
    "moco <- mutate(moco, region = tolower(COUNTYNAME))\n",
    "head(moco)"
   ]
  },
  {
   "cell_type": "code",
   "execution_count": null,
   "metadata": {
    "collapsed": false
   },
   "outputs": [],
   "source": [
    "# Now define the filling attribute with your data frame \n",
    "ggplot(<- YOUR CODE HERE ->) +\n",
    "\n",
    "# and define your map with the common id \n",
    "geom_map(<- YOUR CODE HERE ->)+\n",
    "\n",
    "# mapping stuff\n",
    "expand_limits(x = mo_map$long, y = mo_map$lat) +\n",
    "coord_map() + \n",
    "theme_void()"
   ]
  },
  {
   "cell_type": "markdown",
   "metadata": {},
   "source": [
    "**Exercise 5:** Let's read the Walmart store opening data, and create a density map out of it. Get a Texas map from Google Maps, then create a density plot and its borders as layers on the map. Finally add store locations as another layer encoded by blue dots. "
   ]
  },
  {
   "cell_type": "code",
   "execution_count": null,
   "metadata": {
    "collapsed": false
   },
   "outputs": [],
   "source": [
    "df <- read.csv('https://raw.githubusercontent.com/plotly/datasets/master/1962_2006_walmart_store_openings.csv')\n",
    "head(df)"
   ]
  },
  {
   "cell_type": "code",
   "execution_count": null,
   "metadata": {
    "collapsed": false
   },
   "outputs": [],
   "source": [
    "# Get the Google Map tile at zoom level 7 for Fort Worth, Texas\n",
    "TX <- suppressMessages(get_map(<- YOUR CODE HERE ->))\n",
    "\n",
    "# Create a map from it, slightly whiten it. \n",
    "TXmap <- ggmap(TX, extent = \"device\", darken = c(.2,\"white\"))\n",
    "\n",
    "# Draw the map first \n",
    "TXmap +\n",
    "\n",
    "# add levels \n",
    "geom_density2d(<- YOUR CODE HERE ->) + \n",
    "\n",
    "# add density heat map\n",
    "stat_density2d(<- YOUR CODE HERE ->, size = 0.01, bins = 16, <- YOUR CODE HERE ->) + \n",
    "\n",
    "# color scale \n",
    "scale_fill_gradient(<- YOUR CODE HERE ->) + \n",
    "\n",
    "scale_alpha(range = c(0.05, 0.2), guide = FALSE) +\n",
    "\n",
    "# add store locations here so that they are on top \n",
    "geom_point(<- YOUR CODE HERE ->) +\n",
    "\n",
    "# remove the legend \n",
    "<- YOUR CODE HERE -> + \n",
    "\n",
    "# add title\n",
    "<- YOUR CODE HERE ->\n"
   ]
  },
  {
   "cell_type": "markdown",
   "metadata": {},
   "source": [
    "**Exercise 6:** Do the same exercise for motor vehicle theft data except the point layer. Plot the densities of all data points for all years on the same map. "
   ]
  },
  {
   "cell_type": "code",
   "execution_count": null,
   "metadata": {
    "collapsed": true
   },
   "outputs": [],
   "source": [
    "df <-read.csv(\"../../../datasets/motor_vehicle_thefts/mvt.csv\")\n",
    "head(df)\n",
    "\n",
    "# Get the Google Map tile at zoom level 11 for Chicago\n",
    "\n",
    "<- YOUR CODE HERE ->\n"
   ]
  },
  {
   "cell_type": "markdown",
   "metadata": {},
   "source": [
    "**Exercise 7:** Repeat exercise 6 for small multiples of years. "
   ]
  },
  {
   "cell_type": "code",
   "execution_count": null,
   "metadata": {
    "collapsed": true
   },
   "outputs": [],
   "source": [
    "<- YOUR CODE HERE ->\n"
   ]
  }
 ],
 "metadata": {
  "kernelspec": {
   "display_name": "R",
   "language": "R",
   "name": "ir"
  },
  "language_info": {
   "codemirror_mode": "r",
   "file_extension": ".r",
   "mimetype": "text/x-r-source",
   "name": "R",
   "pygments_lexer": "r",
   "version": "3.3.2"
  }
 },
 "nbformat": 4,
 "nbformat_minor": 2
}
