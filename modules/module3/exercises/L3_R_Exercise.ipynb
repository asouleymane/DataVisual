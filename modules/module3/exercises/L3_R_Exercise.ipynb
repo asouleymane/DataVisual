{
 "cells": [
  {
   "cell_type": "markdown",
   "metadata": {},
   "source": [
    "# Module 3 R Exercise\n",
    "\n",
    "In these exercises, we will use ggplot2 functions to plot some statistical plots about a data set. Have your ggplot2 cheatsheets and documentation handy to find the right parameters for the functions. \n",
    "\n",
    "Let's read the house sales data."
   ]
  },
  {
   "cell_type": "code",
   "execution_count": null,
   "metadata": {
    "collapsed": false
   },
   "outputs": [],
   "source": [
    "library(ggplot2)\n",
    "\n",
    "County_data = read.csv(\"../../../datasets/house_sales_in_king_county/kc_house_data.csv\",header=TRUE,sep=\",\")\n",
    "head(County_data)"
   ]
  },
  {
   "cell_type": "markdown",
   "metadata": {},
   "source": [
    "There are two rows in the dataset with number of bedrooms greater than 10 but the price is very low. Let's remove those outliers from the data. "
   ]
  },
  {
   "cell_type": "code",
   "execution_count": null,
   "metadata": {
    "collapsed": true
   },
   "outputs": [],
   "source": [
    "County_data=County_data[!County_data$bedrooms>10,]"
   ]
  },
  {
   "cell_type": "markdown",
   "metadata": {},
   "source": [
    "**Exercise 1: ** Run str and summmary commands on the data set and give your best guess about which atrributes are nominal variables. Justify your answer. "
   ]
  },
  {
   "cell_type": "code",
   "execution_count": null,
   "metadata": {
    "collapsed": false
   },
   "outputs": [],
   "source": [
    "# <-- YOUR ANSWER HERE -->"
   ]
  },
  {
   "cell_type": "markdown",
   "metadata": {},
   "source": [
    "**Exercise 2: ** Plot the variables sqft_living and price on x and y axes of a scatter plot, respectively."
   ]
  },
  {
   "cell_type": "code",
   "execution_count": null,
   "metadata": {
    "collapsed": false
   },
   "outputs": [],
   "source": [
    "p <- ggplot( <-- YOUR ANSWER HERE --> ) + geom_point(alpha=0.1, color=\"blue\")\n",
    "p"
   ]
  },
  {
   "cell_type": "markdown",
   "metadata": {},
   "source": [
    "We can't really see anything here, let's try the same plot with log scales. \n",
    "\n",
    "**Exercise 3: ** Plot the above axes (both x and y) in log10 scale. "
   ]
  },
  {
   "cell_type": "code",
   "execution_count": null,
   "metadata": {
    "collapsed": false
   },
   "outputs": [],
   "source": [
    "p +  <-- YOUR ANSWER HERE -->"
   ]
  },
  {
   "cell_type": "markdown",
   "metadata": {},
   "source": [
    "This gives a better relation between price and square footage. Let's plot a histogram of price. That is the distribution of prices for all houses. \n",
    "\n",
    "**Exercise 4: ** Plot a histogram of price with a binwidth of 30000."
   ]
  },
  {
   "cell_type": "code",
   "execution_count": null,
   "metadata": {
    "collapsed": false,
    "scrolled": true
   },
   "outputs": [],
   "source": [
    "(g <-  <-- YOUR ANSWER HERE --> + geom_histogram(binwidth=30000))\n"
   ]
  },
  {
   "cell_type": "markdown",
   "metadata": {},
   "source": [
    "We can also plot the probability density function of the price, it will look like a smoothed version of the histogram.\n",
    "\n",
    "**Exercise 5: ** Plot the density of price using geom_density. "
   ]
  },
  {
   "cell_type": "code",
   "execution_count": null,
   "metadata": {
    "collapsed": false,
    "scrolled": true
   },
   "outputs": [],
   "source": [
    " <-- YOUR ANSWER HERE --> + geom_density(alpha=0.2, fill=\"red\")\n"
   ]
  },
  {
   "cell_type": "markdown",
   "metadata": {},
   "source": [
    "Let's work on the subset of the data; we will look only at houses that are less than $2M. "
   ]
  },
  {
   "cell_type": "code",
   "execution_count": null,
   "metadata": {
    "collapsed": true
   },
   "outputs": [],
   "source": [
    "lowprice_houses = County_data[County_data$price<2000000,]"
   ]
  },
  {
   "cell_type": "markdown",
   "metadata": {},
   "source": [
    "We can plot multiple densities on the same plot to see how the price distribution differs with respect to some attribute. We should use alpha transparency in geom_density to see different distributions.\n",
    "\n",
    "**Exercise 6: ** Plot multiple densities of of price with respect to number of bedrooms. "
   ]
  },
  {
   "cell_type": "code",
   "execution_count": null,
   "metadata": {
    "collapsed": false
   },
   "outputs": [],
   "source": [
    "ggplot(lowprice_houses , aes(x=price, fill=factor(<-- YOUR ANSWER HERE -->))) + geom_density(alpha=0.3)"
   ]
  },
  {
   "cell_type": "markdown",
   "metadata": {},
   "source": [
    "This works well if there aren't too many classes; here we can't see much so let's use the facet_wrap() to create small multiples to compare densities for different number of bedrooms. \n",
    "\n",
    "**Exercise 7: ** Plot small multiples of price densities with respect to number of bedrooms. "
   ]
  },
  {
   "cell_type": "code",
   "execution_count": null,
   "metadata": {
    "collapsed": false
   },
   "outputs": [],
   "source": [
    "ggplot(lowprice_houses , aes(x=price,)) + geom_density() + <-- YOUR ANSWER HERE -->"
   ]
  },
  {
   "cell_type": "markdown",
   "metadata": {},
   "source": [
    "Here we can see that up to four bedrooms, the price distribution is narrow; after that the variance of the price increases. \n",
    "Let's see the distribution for number of floors.\n",
    "\n",
    "**Exercise 8: ** Plot small multiples of price densities with respect to number of floors. "
   ]
  },
  {
   "cell_type": "code",
   "execution_count": null,
   "metadata": {
    "collapsed": false
   },
   "outputs": [],
   "source": [
    "ggplot(lowprice_houses , aes(x=price,)) + geom_density() +  <-- YOUR ANSWER HERE -->"
   ]
  },
  {
   "cell_type": "markdown",
   "metadata": {},
   "source": [
    "Let's plot a scatter plot for price vs. square footage with small multiples for number of bedrooms and use color for the number of floors using a sequential brewer palette.\n",
    "\n",
    "**Exercise 9: ** Plot small multiples of price densities with respect to number of bedrooms. "
   ]
  },
  {
   "cell_type": "code",
   "execution_count": null,
   "metadata": {
    "collapsed": false
   },
   "outputs": [],
   "source": [
    "g <- ggplot(lowprice_houses, aes( <-- YOUR ANSWER HERE --> )) + geom_point(alpha=0.5) \n",
    "g <- g + facet_wrap(<-- YOUR ANSWER HERE -->) + scale_color_brewer(palette = <-- YOUR ANSWER HERE -->)\n",
    "g"
   ]
  },
  {
   "cell_type": "markdown",
   "metadata": {},
   "source": [
    "**Exercise 9: ** Let's make the axes log scale. "
   ]
  },
  {
   "cell_type": "code",
   "execution_count": null,
   "metadata": {
    "collapsed": false
   },
   "outputs": [],
   "source": [
    "g <- g + <-- YOUR ANSWER HERE -->\n",
    "g"
   ]
  },
  {
   "cell_type": "markdown",
   "metadata": {},
   "source": [
    "Let's look at a different data set. This one is about a survey of students enrolled in a class and some information about them was collected about their behavior, demographics, etc. "
   ]
  },
  {
   "cell_type": "code",
   "execution_count": null,
   "metadata": {
    "collapsed": false
   },
   "outputs": [],
   "source": [
    "ecg = read.csv(\"../../../datasets/eyecolorgender/eyecolorgenderdata.csv\",header=TRUE,sep=\",\")\n",
    "head(ecg)"
   ]
  },
  {
   "cell_type": "markdown",
   "metadata": {},
   "source": [
    "**Exercise 10: ** Name the nominal and ordinal variables in this data set. "
   ]
  },
  {
   "cell_type": "code",
   "execution_count": null,
   "metadata": {
    "collapsed": true
   },
   "outputs": [],
   "source": [
    "# your answer here"
   ]
  },
  {
   "cell_type": "markdown",
   "metadata": {},
   "source": [
    "**Exercise 11: ** Plot a scatter plot of gender vs. eyecolor."
   ]
  },
  {
   "cell_type": "code",
   "execution_count": null,
   "metadata": {
    "collapsed": false
   },
   "outputs": [],
   "source": [
    "(e <- ggplot(ecg, aes(<-- YOUR ANSWER HERE -->)) +  <-- YOUR ANSWER HERE --> )"
   ]
  },
  {
   "cell_type": "markdown",
   "metadata": {},
   "source": [
    "This didn't work well. When we have overplotting problem where attributes have same exact values for a large number of data rows, we should use geom_jitter() to randomly place points in a scatter plot.\n",
    "\n",
    "**Exercise 12: ** Plot a scatter plot of gender vs. eyecolor with jitter geometry. "
   ]
  },
  {
   "cell_type": "code",
   "execution_count": null,
   "metadata": {
    "collapsed": false
   },
   "outputs": [],
   "source": [
    "(e <- ggplot(ecg, aes(<-- YOUR ANSWER HERE -->)) + <-- YOUR ANSWER HERE --> + geom_jitter())"
   ]
  },
  {
   "cell_type": "markdown",
   "metadata": {},
   "source": [
    "We can adjust the width and height of the jitter, and also the transparency. It's intuitive to use color visual variable for the eyecolor attribute. Let's add all those to the plot. \n",
    "\n",
    "**Exercise 13: ** Plot a scatter plot of gender vs. eyecolor and use color for the eyecolor attribute. "
   ]
  },
  {
   "cell_type": "code",
   "execution_count": null,
   "metadata": {
    "collapsed": false
   },
   "outputs": [],
   "source": [
    "(e <- ggplot(ecg, aes(<-- YOUR ANSWER HERE -->)) + geom_point() + geom_jitter(width=0.3, height=0.2, alpha=0.5))"
   ]
  },
  {
   "cell_type": "markdown",
   "metadata": {},
   "source": [
    "The colors should be intuitive, so we will manually name them with scale_color_manual() where the color values will be \n",
    "c(\"blue\", \"chocolate4\", \"green4\", \"#595c26\", \"black\").\n",
    "\n",
    "**Exercise 14: ** Add manual colors to the above plot."
   ]
  },
  {
   "cell_type": "code",
   "execution_count": null,
   "metadata": {
    "collapsed": false
   },
   "outputs": [],
   "source": [
    "e <- e + scale_color_manual(<-- YOUR ANSWER HERE -->)\n",
    "e"
   ]
  },
  {
   "cell_type": "markdown",
   "metadata": {},
   "source": [
    "**Exercise 15: ** And finally add shape visual variable to encode the exercise attribute. Does it work well? Why? \n"
   ]
  },
  {
   "cell_type": "code",
   "execution_count": null,
   "metadata": {
    "collapsed": false
   },
   "outputs": [],
   "source": [
    "e <- ggplot(ecg, aes(<-- YOUR ANSWER HERE -->) + geom_point() + geom_jitter(width=0.3, height=0.2, alpha=0.5)\n",
    "e <- e + scale_color_manual(<-- YOUR ANSWER HERE -->)\n",
    "e"
   ]
  },
  {
   "cell_type": "markdown",
   "metadata": {},
   "source": [
    "**Exercise 16: ** Plot a scatter plot of gender vs. height with small multiples for exercise. Use the techniques you applied in the above exercises. Use intuitive visual variables for the attributes. \n"
   ]
  },
  {
   "cell_type": "code",
   "execution_count": null,
   "metadata": {
    "collapsed": false
   },
   "outputs": [],
   "source": [
    "e <- ggplot(ecg, aes(<-- YOUR ANSWER HERE -->)) + geom_point(<-- YOUR ANSWER HERE -->) + geom_jitter(<-- YOUR ANSWER HERE -->)\n",
    "e <- e + scale_color_manual(<-- YOUR ANSWER HERE -->) + facet_wrap(<-- YOUR ANSWER HERE -->)\n",
    "e"
   ]
  }
 ],
 "metadata": {
  "kernelspec": {
   "display_name": "R",
   "language": "R",
   "name": "ir"
  },
  "language_info": {
   "codemirror_mode": "r",
   "file_extension": ".r",
   "mimetype": "text/x-r-source",
   "name": "R",
   "pygments_lexer": "r",
   "version": "3.3.2"
  }
 },
 "nbformat": 4,
 "nbformat_minor": 2
}
