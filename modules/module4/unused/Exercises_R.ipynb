{
 "cells": [
  {
   "cell_type": "markdown",
   "metadata": {},
   "source": [
    "# Module 4 R Exercises "
   ]
  },
  {
   "cell_type": "markdown",
   "metadata": {},
   "source": [
    "The exercises in the following notebook requires plotting histograms, line graphs and heat maps. Histograms and line grapgs are useful to understand the trends in data but heat maps offer more insights when looking for patterns. \n",
    "\n",
    "The motor vehicles theft data used in the notebook are incidents reported in Chicago city. It has 3 variables Date(incident reported date with time), Latitude and Longitude(coordinates where incident occured)."
   ]
  },
  {
   "cell_type": "markdown",
   "metadata": {},
   "source": [
    "Read the data from tips text file in \"../../../datasets/mvt.csv\" into the dataframe called tips_data"
   ]
  },
  {
   "cell_type": "code",
   "execution_count": null,
   "metadata": {
    "collapsed": false
   },
   "outputs": [],
   "source": [
    "mvt_data=read.csv(\"../../../datasets/mvt.csv\")\n",
    "str(mvt_data)"
   ]
  },
  {
   "cell_type": "markdown",
   "metadata": {},
   "source": [
    "The variable Date is a factor in original dataset. \n",
    "\n",
    "**Activity 1: ** Convert it to POSIX form to extract date and time from it. Use strptime function for conversion. Create a variable \"Day\" to save the weekdays and variable \"Hour\" to save the hours. "
   ]
  },
  {
   "cell_type": "code",
   "execution_count": null,
   "metadata": {
    "collapsed": false
   },
   "outputs": [],
   "source": [
    "# Your code for activity 1 goes here..\n",
    "\n",
    "# The format specified should match the input date format to extract respective information.\n",
    "\n",
    "\n",
    "# To find out the day of week, use weekdays()\n",
    "\n",
    "\n",
    "# mvt_data$Date$hour will extract the hour from Date\n",
    "\n",
    "str(mvt_data)"
   ]
  },
  {
   "cell_type": "markdown",
   "metadata": {},
   "source": [
    "**Reference: **\n",
    "\n",
    "- [POSIXit](http://www.cyclismo.org/tutorial/R/time.html)\n",
    "- [strptime](http://rfunction.com/archives/1912)"
   ]
  },
  {
   "cell_type": "code",
   "execution_count": null,
   "metadata": {
    "collapsed": false
   },
   "outputs": [],
   "source": [
    "# The distribution of vehicle thefts by day of the week. \n",
    "\n",
    "table(mvt_data$Day)"
   ]
  },
  {
   "cell_type": "markdown",
   "metadata": {},
   "source": [
    "A histogram of Day variable will not be in the order of weekdays instead it will be in alphabetical order. Save the **Day** variable as a ordered factor after which ggplot() will know, variable **Day** is an ordered factor and will plot the \n",
    "days in listed order instead of plotting alphabetically.\n",
    "\n",
    "**Activity 2: ** Convert \"Day\" in \"mvt_data\" into a factor with ordered values. Assign the levels as c(\"Sunday\",\"Monday\",\"Tuesday\",\"Wednesday\",\"Thursday\",\"Friday\",\"Saturday\")."
   ]
  },
  {
   "cell_type": "code",
   "execution_count": null,
   "metadata": {
    "collapsed": false
   },
   "outputs": [],
   "source": [
    "# Your code for activity 2 goes here..\n",
    "\n"
   ]
  },
  {
   "cell_type": "markdown",
   "metadata": {},
   "source": [
    "**Activity 3: ** Plot a histogram for distribution of thefts over days of the week."
   ]
  },
  {
   "cell_type": "code",
   "execution_count": null,
   "metadata": {
    "collapsed": false
   },
   "outputs": [],
   "source": [
    "# Your code for activity 3 goes here..\n",
    "\n"
   ]
  },
  {
   "cell_type": "code",
   "execution_count": null,
   "metadata": {
    "collapsed": false
   },
   "outputs": [],
   "source": [
    "# Distribution of vehicle thefts by day of the week and hour. Store this as a dataframe to plot a line graph and heat map later.\n",
    " \n",
    "table(mvt_data$Day,mvt_data$Hour)"
   ]
  },
  {
   "cell_type": "code",
   "execution_count": null,
   "metadata": {
    "collapsed": false
   },
   "outputs": [],
   "source": [
    "# Convert the list output from table() into a dataframe.\n",
    "DayHourCounts = as.data.frame(table(mvt_data$Day,mvt_data$Hour))\n",
    "\n",
    "# There are 168 observations one for each hour of the day and day of the week. 24*7=168. First variable gives day of the week. \n",
    "# Second variable gives hour of the day. THird variable \"Freq\" gives the total crime count for a particular hour.\n",
    "str(DayHourCounts)"
   ]
  },
  {
   "cell_type": "markdown",
   "metadata": {},
   "source": [
    "**Reference: **\n",
    "\n",
    "- [as.data.frame](https://www.r-bloggers.com/converting-a-list-to-a-data-frame/)"
   ]
  },
  {
   "cell_type": "code",
   "execution_count": null,
   "metadata": {
    "collapsed": false
   },
   "outputs": [],
   "source": [
    "# Convert var2 in DayHourCounts into numbers. Create a new variable called Hour and assign numeric form of var2 to it. \n",
    "DayHourCounts$Hour = as.numeric(as.character(DayHourCounts$Var2))\n",
    "str(DayHourCounts)"
   ]
  },
  {
   "cell_type": "markdown",
   "metadata": {},
   "source": [
    "**Activity 4: ** Plot a line graph with **Hour** and **Freq** from **DayHourCounts** on x axis and on y-axis respectively. Draw a line for each day differentiating each line with a different color. "
   ]
  },
  {
   "cell_type": "code",
   "execution_count": null,
   "metadata": {
    "collapsed": false
   },
   "outputs": [],
   "source": [
    "# Your code for activity 4 goes here..\n",
    "\n"
   ]
  },
  {
   "cell_type": "markdown",
   "metadata": {},
   "source": [
    "What is your opinion on plot?\n",
    "\n",
    "Here..."
   ]
  },
  {
   "cell_type": "markdown",
   "metadata": {},
   "source": [
    "Plot a heat map instead of line graph. Again keep the the days in the order of weekdays just like how it is done above."
   ]
  },
  {
   "cell_type": "code",
   "execution_count": null,
   "metadata": {
    "collapsed": true
   },
   "outputs": [],
   "source": [
    "DayHourCounts$Var1 = factor(DayHourCounts$Var1,ordered=TRUE,levels=c(\"Sunday\",\"Monday\",\"Tuesday\",\"Wednesday\",\"Thursday\",\"Friday\",\"Saturday\"))"
   ]
  },
  {
   "cell_type": "markdown",
   "metadata": {},
   "source": [
    "**Activity 5: ** Plot a heat map with **Hour** and **Day** from **DayHourCounts** on x axis and on y-axis respectively. Use White for the low color and red as high color to fill the tiles. "
   ]
  },
  {
   "cell_type": "code",
   "execution_count": null,
   "metadata": {
    "collapsed": false
   },
   "outputs": [],
   "source": [
    "# Your code for activity 5 goes here..\n",
    "\n",
    "\n",
    "# The fill parameter corresponds to the color of rectangles for the total crime for a particular hour. "
   ]
  },
  {
   "cell_type": "markdown",
   "metadata": {},
   "source": [
    "For each hour and each day there is a rectangle. The color intensity of rectangle tells the frequency or the number of crimes happened in that hour on that day. According to the legend, lighter color corresponds to more crimes. So from the plot it is evident that more crimes occur at midnight during weekends. Also friday nights are when many thefts happen. Color schemes should be changed according to the problem. Different color schemes are helpful in different situations."
   ]
  }
 ],
 "metadata": {
  "anaconda-cloud": {},
  "kernelspec": {
   "display_name": "R",
   "language": "R",
   "name": "ir"
  },
  "language_info": {
   "codemirror_mode": "r",
   "file_extension": ".r",
   "mimetype": "text/x-r-source",
   "name": "R",
   "pygments_lexer": "r",
   "version": "3.3.1"
  }
 },
 "nbformat": 4,
 "nbformat_minor": 1
}
