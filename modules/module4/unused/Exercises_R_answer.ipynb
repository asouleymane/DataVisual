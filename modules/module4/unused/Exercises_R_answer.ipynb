{
 "cells": [
  {
   "cell_type": "markdown",
   "metadata": {},
   "source": [
    "# Module 4 R Exercises "
   ]
  },
  {
   "cell_type": "markdown",
   "metadata": {},
   "source": [
    "The exercises in the following notebook requires plotting histograms, line graphs and heat maps. Histograms and line grapgs are useful to understand the trends in data but heat maps offer more insights when looking for patterns. \n",
    "\n",
    "The motor vehicles theft data used in the notebook are incidents reported in Chicago city. It has 3 variables Date(incident reported date with time), Latitude and Longitude(coordinates where incident occured)."
   ]
  },
  {
   "cell_type": "markdown",
   "metadata": {},
   "source": [
    "Read the data from tips text file in \"../../../datasets/mvt.csv\" into the dataframe called tips_data"
   ]
  },
  {
   "cell_type": "code",
   "execution_count": 34,
   "metadata": {
    "collapsed": false
   },
   "outputs": [
    {
     "name": "stdout",
     "output_type": "stream",
     "text": [
      "'data.frame':\t191641 obs. of  3 variables:\n",
      " $ Date     : Factor w/ 131680 levels \"1/1/01 0:01\",..: 42824 42823 42823 42823 42822 42821 42820 42819 42817 42816 ...\n",
      " $ Latitude : num  41.8 41.9 42 41.8 41.8 ...\n",
      " $ Longitude: num  -87.6 -87.7 -87.8 -87.7 -87.6 ...\n"
     ]
    }
   ],
   "source": [
    "mvt_data=read.csv(\"../../../datasets/mvt.csv\")\n",
    "str(mvt_data)"
   ]
  },
  {
   "cell_type": "markdown",
   "metadata": {},
   "source": [
    "The variable Date is a factor in original dataset. \n",
    "\n",
    "**Activity 1: ** Convert it to POSIX form to extract date and time from it. Use strptime function for conversion. Create a variable \"Day\" to save the weekdays and variable \"Hour\" to save the hours. "
   ]
  },
  {
   "cell_type": "code",
   "execution_count": 35,
   "metadata": {
    "collapsed": false
   },
   "outputs": [
    {
     "name": "stdout",
     "output_type": "stream",
     "text": [
      "'data.frame':\t191641 obs. of  5 variables:\n",
      " $ Date     : POSIXlt, format: \"2012-12-31 23:15:00\" \"2012-12-31 22:00:00\" ...\n",
      " $ Latitude : num  41.8 41.9 42 41.8 41.8 ...\n",
      " $ Longitude: num  -87.6 -87.7 -87.8 -87.7 -87.6 ...\n",
      " $ Day      : chr  \"Monday\" \"Monday\" \"Monday\" \"Monday\" ...\n",
      " $ Hour     : int  23 22 22 22 21 20 20 20 19 18 ...\n"
     ]
    }
   ],
   "source": [
    "# Your code for activity 1 goes here..\n",
    "\n",
    "# The format specified should match the input date format to extract respective information.\n",
    "mvt_data$Date=strptime(mvt_data$Date,format=\"%m/%d/%y %H:%M\")\n",
    "\n",
    "# To find out the day of week, use weekdays()\n",
    "mvt_data$Day = weekdays(mvt_data$Date)\n",
    "\n",
    "# mvt_data$Date$hour will extract the hour from Date\n",
    "mvt_data$Hour = mvt_data$Date$hour\n",
    "str(mvt_data)"
   ]
  },
  {
   "cell_type": "markdown",
   "metadata": {},
   "source": [
    "**Reference: **\n",
    "\n",
    "- [POSIXit](http://www.cyclismo.org/tutorial/R/time.html)\n",
    "- [strptime](http://rfunction.com/archives/1912)"
   ]
  },
  {
   "cell_type": "code",
   "execution_count": 9,
   "metadata": {
    "collapsed": false
   },
   "outputs": [
    {
     "data": {
      "text/plain": [
       "\n",
       "   Friday    Monday  Saturday    Sunday  Thursday   Tuesday Wednesday \n",
       "    29284     27397     27118     26316     27319     26791     27416 "
      ]
     },
     "metadata": {},
     "output_type": "display_data"
    }
   ],
   "source": [
    "# The distribution of vehicle thefts by day of the week. \n",
    "\n",
    "table(mvt_data$Day)"
   ]
  },
  {
   "cell_type": "markdown",
   "metadata": {},
   "source": [
    "A histogram of Day variable will not be in the order of weekdays instead it will be in alphabetical order. Save the **Day** variable as a ordered factor after which ggplot() will know, variable **Day** is an ordered factor and will plot the \n",
    "days in listed order instead of plotting alphabetically.\n",
    "\n",
    "**Activity 2: ** Convert \"Day\" in \"mvt_data\" into a factor with ordered values. Assign the levels as c(\"Sunday\",\"Monday\",\"Tuesday\",\"Wednesday\",\"Thursday\",\"Friday\",\"Saturday\")."
   ]
  },
  {
   "cell_type": "code",
   "execution_count": 36,
   "metadata": {
    "collapsed": false
   },
   "outputs": [],
   "source": [
    "# Your code for activity 2 goes here..\n",
    "\n",
    "mvt_data$Day = factor(mvt_data$Day,ordered=TRUE,levels=c(\"Sunday\",\"Monday\",\"Tuesday\",\"Wednesday\",\"Thursday\",\"Friday\",\"Saturday\"))"
   ]
  },
  {
   "cell_type": "markdown",
   "metadata": {},
   "source": [
    "**Activity 3: ** Plot a histogram for distribution of thefts over days of the week."
   ]
  },
  {
   "cell_type": "code",
   "execution_count": 37,
   "metadata": {
    "collapsed": false
   },
   "outputs": [
    {
     "data": {},
     "metadata": {},
     "output_type": "display_data"
    },
    {
     "data": {
      "image/png": "[encoded data removed]",
      "text/plain": [
       "plot without title"
      ]
     },
     "metadata": {},
     "output_type": "display_data"
    }
   ],
   "source": [
    "# Your code for activity 3 goes here..\n",
    "\n",
    "library(ggplot2)\n",
    "\n",
    "ggplot(mvt_data,aes(x=Day))+geom_bar()+xlab(\"Day of the week\") + ylab(\"Total Motor Vehicle thefts\")"
   ]
  },
  {
   "cell_type": "code",
   "execution_count": 38,
   "metadata": {
    "collapsed": false
   },
   "outputs": [
    {
     "data": {
      "text/plain": [
       "           \n",
       "               0    1    2    3    4    5    6    7    8    9   10   11   12\n",
       "  Sunday    2028 1236 1019  838  607  461  478  483  615  864  884  787 1192\n",
       "  Monday    1900  825  712  527  415  542  772 1123 1323 1235  971  737 1129\n",
       "  Tuesday   1691  777  603  464  414  520  845 1118 1175 1174  948  786 1108\n",
       "  Wednesday 1814  790  619  469  396  561  862 1140 1329 1237  947  763 1225\n",
       "  Thursday  1856  816  696  508  400  534  799 1135 1298 1301  932  731 1093\n",
       "  Friday    1873  932  743  560  473  602  839 1203 1268 1286  938  822 1207\n",
       "  Saturday  2050 1267  985  836  652  508  541  650  858 1039  946  789 1204\n",
       "           \n",
       "              13   14   15   16   17   18   19   20   21   22   23\n",
       "  Sunday     789  959 1037 1083 1160 1389 1342 1706 1696 2079 1584\n",
       "  Monday     824  958 1059 1136 1252 1518 1503 1622 1815 2009 1490\n",
       "  Tuesday    762  908 1071 1090 1274 1553 1496 1696 1816 2044 1458\n",
       "  Wednesday  804  863 1075 1076 1289 1580 1507 1718 1748 2093 1511\n",
       "  Thursday   752  831 1044 1131 1258 1510 1537 1668 1776 2134 1579\n",
       "  Friday     857  937 1140 1165 1318 1623 1652 1736 1881 2308 1921\n",
       "  Saturday   767  963 1086 1055 1084 1348 1390 1570 1702 2078 1750"
      ]
     },
     "metadata": {},
     "output_type": "display_data"
    }
   ],
   "source": [
    "# Distribution of vehicle thefts by day of the week and hour. Store this as a dataframe to plot a line graph and heat map later.\n",
    " \n",
    "table(mvt_data$Day,mvt_data$Hour)"
   ]
  },
  {
   "cell_type": "code",
   "execution_count": 42,
   "metadata": {
    "collapsed": false
   },
   "outputs": [
    {
     "name": "stdout",
     "output_type": "stream",
     "text": [
      "'data.frame':\t168 obs. of  3 variables:\n",
      " $ Var1: Factor w/ 7 levels \"Sunday\",\"Monday\",..: 1 2 3 4 5 6 7 1 2 3 ...\n",
      " $ Var2: Factor w/ 24 levels \"0\",\"1\",\"2\",\"3\",..: 1 1 1 1 1 1 1 2 2 2 ...\n",
      " $ Freq: int  2028 1900 1691 1814 1856 1873 2050 1236 825 777 ...\n"
     ]
    }
   ],
   "source": [
    "# Convert the list output from table() into a dataframe.\n",
    "DayHourCounts = as.data.frame(table(mvt_data$Day,mvt_data$Hour))\n",
    "\n",
    "# There are 168 observations one for each hour of the day and day of the week. 24*7=168. First variable gives day of the week. \n",
    "# Second variable gives hour of the day. THird variable \"Freq\" gives the total crime count for a particular hour.\n",
    "str(DayHourCounts)"
   ]
  },
  {
   "cell_type": "markdown",
   "metadata": {},
   "source": [
    "**Reference: **\n",
    "\n",
    "- [as.data.frame](https://www.r-bloggers.com/converting-a-list-to-a-data-frame/)"
   ]
  },
  {
   "cell_type": "code",
   "execution_count": 44,
   "metadata": {
    "collapsed": false
   },
   "outputs": [
    {
     "name": "stdout",
     "output_type": "stream",
     "text": [
      "'data.frame':\t168 obs. of  4 variables:\n",
      " $ Var1: Factor w/ 7 levels \"Sunday\",\"Monday\",..: 1 2 3 4 5 6 7 1 2 3 ...\n",
      " $ Var2: Factor w/ 24 levels \"0\",\"1\",\"2\",\"3\",..: 1 1 1 1 1 1 1 2 2 2 ...\n",
      " $ Freq: int  2028 1900 1691 1814 1856 1873 2050 1236 825 777 ...\n",
      " $ Hour: num  0 0 0 0 0 0 0 1 1 1 ...\n"
     ]
    }
   ],
   "source": [
    "# Convert var2 in DayHourCounts into numbers. Create a new variable called Hour and assign numeric form of var2 to it. \n",
    "DayHourCounts$Hour = as.numeric(as.character(DayHourCounts$Var2))\n",
    "str(DayHourCounts)"
   ]
  },
  {
   "cell_type": "markdown",
   "metadata": {},
   "source": [
    "**Activity 4: ** Plot a line graph with **Hour** and **Freq** from **DayHourCounts** on x axis and on y-axis respectively. Draw a line for each day differentiating each line with a different color. "
   ]
  },
  {
   "cell_type": "code",
   "execution_count": 54,
   "metadata": {
    "collapsed": false
   },
   "outputs": [
    {
     "data": {},
     "metadata": {},
     "output_type": "display_data"
    },
    {
     "data": {
      "image/png": "[encoded data removed]",
      "text/plain": [
       "plot without title"
      ]
     },
     "metadata": {},
     "output_type": "display_data"
    }
   ],
   "source": [
    "# Your code for activity 4 goes here..\n",
    "\n",
    "ggplot(DayHourCounts,aes(x=Hour,y=Freq))+geom_line(aes(group=Var1,color=Var1))"
   ]
  },
  {
   "cell_type": "markdown",
   "metadata": {},
   "source": [
    "What is your opinion on plot?\n",
    "\n",
    "Here..."
   ]
  },
  {
   "cell_type": "markdown",
   "metadata": {},
   "source": [
    "Plot a heat map instead of line graph. Again keep the the days in the order of weekdays just like how it is done above."
   ]
  },
  {
   "cell_type": "code",
   "execution_count": 55,
   "metadata": {
    "collapsed": true
   },
   "outputs": [],
   "source": [
    "DayHourCounts$Var1 = factor(DayHourCounts$Var1,ordered=TRUE,levels=c(\"Sunday\",\"Monday\",\"Tuesday\",\"Wednesday\",\"Thursday\",\"Friday\",\"Saturday\"))"
   ]
  },
  {
   "cell_type": "markdown",
   "metadata": {},
   "source": [
    "**Activity 5: ** Plot a heat map with **Hour** and **Day** from **DayHourCounts** on x axis and on y-axis respectively. Use White for the low color and red as high color to fill the tiles. "
   ]
  },
  {
   "cell_type": "code",
   "execution_count": 60,
   "metadata": {
    "collapsed": false
   },
   "outputs": [
    {
     "data": {},
     "metadata": {},
     "output_type": "display_data"
    },
    {
     "data": {
      "image/png": "[encoded data removed]",
      "text/plain": [
       "plot without title"
      ]
     },
     "metadata": {},
     "output_type": "display_data"
    }
   ],
   "source": [
    "# Your code for activity 5 goes here..\n",
    "\n",
    "ggplot(DayHourCounts,aes(x=Hour,y=Var1))+geom_tile(aes(fill=Freq)) + \n",
    "    scale_fill_gradient(name=\"Total MV thefts\",low=\"white\",high=\"red\") +\n",
    "    theme(axis.title.y=element_blank())\n",
    "\n",
    "# The fill parameter corresponds to the color of rectangles for the total crime for a particular hour. "
   ]
  },
  {
   "cell_type": "markdown",
   "metadata": {},
   "source": [
    "For each hour and each day there is a rectangle. The color intensity of rectangle tells the frequency or the number of crimes happened in that hour on that day. According to the legend, lighter color corresponds to more crimes. So from the plot it is evident that more crimes occur at midnight during weekends. Also friday nights are when many thefts happen. Color schemes should be changed according to the problem. Different color schemes are helpful in different situations."
   ]
  }
 ],
 "metadata": {
  "anaconda-cloud": {},
  "kernelspec": {
   "display_name": "R",
   "language": "R",
   "name": "ir"
  },
  "language_info": {
   "codemirror_mode": "r",
   "file_extension": ".r",
   "mimetype": "text/x-r-source",
   "name": "R",
   "pygments_lexer": "r",
   "version": "3.3.1"
  }
 },
 "nbformat": 4,
 "nbformat_minor": 1
}
