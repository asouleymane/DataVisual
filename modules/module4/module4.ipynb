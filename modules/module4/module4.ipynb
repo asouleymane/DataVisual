{
 "cells": [
  {
   "cell_type": "markdown",
   "metadata": {},
   "source": [
    "# Module Four: Visualization Design Principles\n",
    "\n",
    "\n",
    "## Topics covered \n",
    " - Tufte's design principles\n",
    "   - Lie factor\n",
    "   - Graphical integrity\n",
    "   - Data-ink ratio\n",
    "   - Data density, chart junk\n",
    "   - Visualization analysis\n",
    "   - Practice and exercise\n",
    "     - introduction to plot.ly: module 3 examples done in plot.ly\n",
    "     - ggplot2 practice: Histograms, heat maps     \n",
    "\n",
    "\n",
    "## Notebook Shortcuts\n",
    "\n",
    "### Labs\n",
    "- [Elements of Visualization](labs/L4_DataViz_Principles.ipynb)\n",
    "- [Lecture Slides](labs/L4_DataViz_Principles.pdf)\n",
    "\n",
    "\n",
    "### Practices\n",
    "- [L4 Heatmap Practice](practices/L4 Heatmap Practice.ipynb)\n",
    "- [L4 Histogram Practice](practices/L4 Histogram Practice.ipynb)\n",
    "- [L4 Plotly1 Practice](practices/L4 Plotly1 Practice.ipynb)\n",
    "- [L4 Plotly2 Practice](practices/L4 Plotly2 Practice.ipynb)\n",
    "\n",
    "\n",
    "\n",
    "### Exercises\n",
    "- [L4 Exercise](exercises/L4_Exercise.ipynb)\n",
    "\n",
    "\n",
    "\n",
    "## Readings and Links\n",
    "- Embedded in the lab and practice notebooks\n",
    "\n",
    "\n",
    "## Video topics\n",
    "- **Concept Video**: Visualization Design Principles\n",
    "\n",
    "\n",
    "\n",
    "## Data Sets\n",
    "Path: `~/datasets/`\n",
    "\n",
    "\n",
    "## Suggested Schedule\n",
    "\n",
    "### Monday\n",
    "- **Concept Video**: Visualization Design Principles\n",
    "- **Lab Notebook**: L4_DataViz_Principles.ipynb\n",
    "- **Lecture Slides**: L4_DataViz_Principles.pdf\n",
    "- **Practice Notebook**: L4_Heatmap_Practice.ipynb\n",
    "- **Practice Notebook**: L4_Histogram_Practice.ipynb\n",
    "- **Practice Notebook**: L4_Plotly1_Practice.ipynb\n",
    "- **Practice Notebook**: L4_Plotly2_Practice.ipynb\n",
    "\n",
    "\n",
    "\n",
    "### Wednesday\n",
    "- Discussion\n",
    "\n",
    "### Thursday\n",
    "- Discussion Responses\n",
    "\n",
    "### Friday/Saturday/Sunday\n",
    "- **Exercise**: L4_Exercise.ipynb\n"
   ]
  },
  {
   "cell_type": "code",
   "execution_count": null,
   "metadata": {
    "collapsed": true
   },
   "outputs": [],
   "source": []
  }
 ],
 "metadata": {
  "kernelspec": {
   "display_name": "Python 3",
   "language": "python",
   "name": "python3"
  },
  "language_info": {
   "codemirror_mode": {
    "name": "ipython",
    "version": 3
   },
   "file_extension": ".py",
   "mimetype": "text/x-python",
   "name": "python",
   "nbconvert_exporter": "python",
   "pygments_lexer": "ipython3",
   "version": "3.4.5"
  }
 },
 "nbformat": 4,
 "nbformat_minor": 0
}
