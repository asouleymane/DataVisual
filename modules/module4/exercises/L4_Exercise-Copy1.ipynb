{
 "cells": [
  {
   "cell_type": "markdown",
   "metadata": {},
   "source": [
    "# Module 4 R Exercise\n",
    "\n",
    "In these exercises, we will use ggplot2 and plotly functions to plot some statistical plots about a data set. Have your ggplot2 and plotly cheatsheets and documentation handy to find the right parameters for the functions. \n",
    "\n",
    "Let's read the Gapminder data from the web resource."
   ]
  },
  {
   "cell_type": "code",
   "execution_count": 1,
   "metadata": {
    "collapsed": false
   },
   "outputs": [
    {
     "name": "stderr",
     "output_type": "stream",
     "text": [
      "\n",
      "Attaching package: ‘plotly’\n",
      "\n",
      "The following object is masked from ‘package:ggplot2’:\n",
      "\n",
      "    last_plot\n",
      "\n",
      "The following object is masked from ‘package:stats’:\n",
      "\n",
      "    filter\n",
      "\n",
      "The following object is masked from ‘package:graphics’:\n",
      "\n",
      "    layout\n",
      "\n"
     ]
    },
    {
     "data": {
      "text/html": [
       "<table>\n",
       "<thead><tr><th scope=col>country</th><th scope=col>year</th><th scope=col>pop</th><th scope=col>continent</th><th scope=col>lifeExp</th><th scope=col>gdpPercap</th></tr></thead>\n",
       "<tbody>\n",
       "\t<tr><td>Afghanistan</td><td>1952       </td><td> 8425333   </td><td>Asia       </td><td>28.801     </td><td>779.4453   </td></tr>\n",
       "\t<tr><td>Afghanistan</td><td>1957       </td><td> 9240934   </td><td>Asia       </td><td>30.332     </td><td>820.8530   </td></tr>\n",
       "\t<tr><td>Afghanistan</td><td>1962       </td><td>10267083   </td><td>Asia       </td><td>31.997     </td><td>853.1007   </td></tr>\n",
       "\t<tr><td>Afghanistan</td><td>1967       </td><td>11537966   </td><td>Asia       </td><td>34.020     </td><td>836.1971   </td></tr>\n",
       "\t<tr><td>Afghanistan</td><td>1972       </td><td>13079460   </td><td>Asia       </td><td>36.088     </td><td>739.9811   </td></tr>\n",
       "\t<tr><td>Afghanistan</td><td>1977       </td><td>14880372   </td><td>Asia       </td><td>38.438     </td><td>786.1134   </td></tr>\n",
       "</tbody>\n",
       "</table>\n"
      ],
      "text/latex": [
       "\\begin{tabular}{r|llllll}\n",
       " country & year & pop & continent & lifeExp & gdpPercap\\\\\n",
       "\\hline\n",
       "\t Afghanistan & 1952        &  8425333    & Asia        & 28.801      & 779.4453   \\\\\n",
       "\t Afghanistan & 1957        &  9240934    & Asia        & 30.332      & 820.8530   \\\\\n",
       "\t Afghanistan & 1962        & 10267083    & Asia        & 31.997      & 853.1007   \\\\\n",
       "\t Afghanistan & 1967        & 11537966    & Asia        & 34.020      & 836.1971   \\\\\n",
       "\t Afghanistan & 1972        & 13079460    & Asia        & 36.088      & 739.9811   \\\\\n",
       "\t Afghanistan & 1977        & 14880372    & Asia        & 38.438      & 786.1134   \\\\\n",
       "\\end{tabular}\n"
      ],
      "text/plain": [
       "  country     year pop      continent lifeExp gdpPercap\n",
       "1 Afghanistan 1952  8425333 Asia      28.801  779.4453 \n",
       "2 Afghanistan 1957  9240934 Asia      30.332  820.8530 \n",
       "3 Afghanistan 1962 10267083 Asia      31.997  853.1007 \n",
       "4 Afghanistan 1967 11537966 Asia      34.020  836.1971 \n",
       "5 Afghanistan 1972 13079460 Asia      36.088  739.9811 \n",
       "6 Afghanistan 1977 14880372 Asia      38.438  786.1134 "
      ]
     },
     "metadata": {},
     "output_type": "display_data"
    }
   ],
   "source": [
    "library(ggplot2)\n",
    "library(plotly)\n",
    "library(RColorBrewer)\n",
    "\n",
    "data <- read.csv(\"https://raw.githubusercontent.com/plotly/datasets/master/gapminderDataFiveYear.csv\")\n",
    "head(data)"
   ]
  },
  {
   "cell_type": "markdown",
   "metadata": {},
   "source": [
    "**Exercise 1: ** Use which() function to get a subset of the data between years 1951 and 1993. "
   ]
  },
  {
   "cell_type": "code",
   "execution_count": null,
   "metadata": {
    "collapsed": true
   },
   "outputs": [],
   "source": [
    "data_sub <- data[which(<-YOUR CODE HERE->), ]"
   ]
  },
  {
   "cell_type": "markdown",
   "metadata": {},
   "source": [
    "**Exercise 2: ** Plot small multiples of histograms of life expectancy for each year for the subset. Use a binwidth of 5, and use sensible axis labels."
   ]
  },
  {
   "cell_type": "code",
   "execution_count": null,
   "metadata": {
    "collapsed": false
   },
   "outputs": [],
   "source": [
    "ggplot(<-YOUR CODE HERE->) + \n",
    " geom_histogram(<-YOUR CODE HERE->) +\n",
    "  <-YOUR CODE HERE->"
   ]
  },
  {
   "cell_type": "markdown",
   "metadata": {},
   "source": [
    "**Exercise 3: ** Do the same as above, but plot a density function this time. How do you interpret the change of density in years?"
   ]
  },
  {
   "cell_type": "code",
   "execution_count": null,
   "metadata": {
    "collapsed": false
   },
   "outputs": [],
   "source": [
    "ggplot(<-YOUR CODE HERE->) +  \n",
    " <-YOUR CODE HERE->"
   ]
  },
  {
   "cell_type": "markdown",
   "metadata": {},
   "source": [
    "**Exercise 4: ** Create a line plot (use both geom_line and geom_point) to plot year versus population for the **whole** data set. Use a logarithmic scale in y axis and group by country, color by continent. Can you see any pattern? "
   ]
  },
  {
   "cell_type": "code",
   "execution_count": null,
   "metadata": {
    "collapsed": false
   },
   "outputs": [],
   "source": [
    "ggplot(<-YOUR CODE HERE->, aes(<-YOUR CODE HERE->, group=country)) +\n",
    "       <-YOUR CODE HERE->"
   ]
  },
  {
   "cell_type": "markdown",
   "metadata": {},
   "source": [
    "** Aggregate data ** The above plot is too crowded to see anything. Let's aggregate data by continent and year so that we can have meaningful data to plot. The following code creates a new data frame by computing the sums of population for years and continents."
   ]
  },
  {
   "cell_type": "code",
   "execution_count": null,
   "metadata": {
    "collapsed": false
   },
   "outputs": [],
   "source": [
    "aggdata <- aggregate(data$pop, by=list(continent=data$continent, year=data$year), FUN=sum, na.rm=TRUE)\n",
    "\n",
    "head(aggdata)"
   ]
  },
  {
   "cell_type": "markdown",
   "metadata": {},
   "source": [
    "**Exercise 5: ** Now repeat exercise 4 with this aggregate data and group and color by continent. Do you see a pattern ? "
   ]
  },
  {
   "cell_type": "code",
   "execution_count": null,
   "metadata": {
    "collapsed": false
   },
   "outputs": [],
   "source": [
    "ggplot(<-YOUR CODE HERE->, aes(<-YOUR CODE HERE->, group=continent)) +\n",
    "       <-YOUR CODE HERE->"
   ]
  },
  {
   "cell_type": "markdown",
   "metadata": {},
   "source": [
    "**Exercise 6: ** Now, plot a stacked area chart to see the same. Instead of group and color, use only fill parameter for continent, and use geom_area."
   ]
  },
  {
   "cell_type": "code",
   "execution_count": null,
   "metadata": {
    "collapsed": false
   },
   "outputs": [],
   "source": [
    "ggplot(<-YOUR CODE HERE->, aes(<-YOUR CODE HERE->,fill=continent)) + <-YOUR CODE HERE-> + scale_fill_brewer(palette=\"Set2\")\n"
   ]
  },
  {
   "cell_type": "markdown",
   "metadata": {},
   "source": [
    "** Find percentages ** The above plot shows actual population numbers and they grow in time. We want to see the percentage change of the continents' populations w.r.t total world population. The code below computes that. "
   ]
  },
  {
   "cell_type": "code",
   "execution_count": null,
   "metadata": {
    "collapsed": false
   },
   "outputs": [],
   "source": [
    "my_fun=function(vec){ as.numeric(vec[3]) / sum(aggdata$x[aggdata$year==vec[2]]) *100 }\n",
    "aggdata$perc=apply(aggdata , 1 , my_fun)\n",
    "\n",
    "head(aggdata)"
   ]
  },
  {
   "cell_type": "markdown",
   "metadata": {},
   "source": [
    "**Exercise 7: ** Now, plot the same as exercise 6 but use perc as the y axis. "
   ]
  },
  {
   "cell_type": "code",
   "execution_count": null,
   "metadata": {
    "collapsed": false
   },
   "outputs": [],
   "source": [
    "ggplot(<-YOUR CODE HERE->, aes(<-YOUR CODE HERE->, fill=continent)) + \n",
    "    <-YOUR CODE HERE-> + scale_fill_brewer(palette=\"Set2\")"
   ]
  },
  {
   "cell_type": "markdown",
   "metadata": {},
   "source": [
    "**Exercise 8: ** We will aggregate once more; this time we will compute the *mean* gdp per capita for continents and years. It's your turn this time.  "
   ]
  },
  {
   "cell_type": "code",
   "execution_count": null,
   "metadata": {
    "collapsed": false
   },
   "outputs": [],
   "source": [
    "aggdata2 <- aggregate(<-YOUR CODE HERE->, by=list(<-YOUR CODE HERE->), FUN=<-YOUR CODE HERE->, na.rm=TRUE)\n",
    "head(aggdata2)"
   ]
  },
  {
   "cell_type": "markdown",
   "metadata": {},
   "source": [
    "**Exercise 9: ** Plot a heatmap using **plot_ly function** for years vs. continents using the mean gdp per capita as the z value. "
   ]
  },
  {
   "cell_type": "code",
   "execution_count": null,
   "metadata": {
    "collapsed": false
   },
   "outputs": [],
   "source": [
    "plot_ly(aggdata2, <-YOUR CODE HERE->, type=\"heatmap\", colors=colorRamp(c(\"white\", \"blue\")))\n",
    "        \n"
   ]
  },
  {
   "cell_type": "markdown",
   "metadata": {},
   "source": [
    "**Exercise 10: ** Plot a boxplot gdp per capita using **plot_ly function** for continents. Use the **whole** data set, color by continent, and make sure y axis is in log scale. When hovering over data, what do you notice about first and third quartiles for each continent (hint: think of income inequality) ? "
   ]
  },
  {
   "cell_type": "code",
   "execution_count": null,
   "metadata": {
    "collapsed": false
   },
   "outputs": [],
   "source": [
    "plot_ly(<-YOUR CODE HERE->, type=\"box\") %>% layout(yaxis = list(type = \"log\"))\n",
    "        \n"
   ]
  }
 ],
 "metadata": {
  "kernelspec": {
   "display_name": "R",
   "language": "R",
   "name": "ir"
  },
  "language_info": {
   "codemirror_mode": "r",
   "file_extension": ".r",
   "mimetype": "text/x-r-source",
   "name": "R",
   "pygments_lexer": "r",
   "version": "3.3.2"
  }
 },
 "nbformat": 4,
 "nbformat_minor": 2
}
