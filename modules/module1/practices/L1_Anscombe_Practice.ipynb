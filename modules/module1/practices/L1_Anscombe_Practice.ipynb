{
 "cells": [
  {
   "cell_type": "markdown",
   "metadata": {},
   "source": [
    "# Lab 1 Practice: Anscombe's Quartet\n",
    "\n",
    "In this practice, we will recreate the Anscombe's Quartet visualization. This is the statistics and the graphics we have seen in the lab. "
   ]
  },
  {
   "cell_type": "markdown",
   "metadata": {},
   "source": [
    "\n",
    "<img src=\"../images/AnscombeStats.png\">\n",
    "\n",
    "<img src=\"../images/AnscombeGraph.png\">\n",
    "\n",
    "We will use the *ggplot2* library which has many useful functions to create nice plots and graphics. We will also use some other libraries to help with the layout. "
   ]
  },
  {
   "cell_type": "code",
   "execution_count": 1,
   "metadata": {
    "collapsed": false
   },
   "outputs": [
    {
     "name": "stderr",
     "output_type": "stream",
     "text": [
      "Warning message:\n",
      "\"package 'gridExtra' was built under R version 3.3.2\""
     ]
    },
    {
     "data": {
      "text/html": [
       "<table>\n",
       "<thead><tr><th></th><th scope=col>x1</th><th scope=col>x2</th><th scope=col>x3</th><th scope=col>x4</th><th scope=col>y1</th><th scope=col>y2</th><th scope=col>y3</th><th scope=col>y4</th></tr></thead>\n",
       "<tbody>\n",
       "\t<tr><th scope=row>1</th><td>10.00</td><td>10.00</td><td>10.00</td><td> 8.00</td><td> 8.04</td><td> 9.14</td><td> 7.46</td><td> 6.58</td></tr>\n",
       "\t<tr><th scope=row>2</th><td>8.00</td><td>8.00</td><td>8.00</td><td>8.00</td><td>6.95</td><td>8.14</td><td>6.77</td><td>5.76</td></tr>\n",
       "\t<tr><th scope=row>3</th><td>13.00</td><td>13.00</td><td>13.00</td><td> 8.00</td><td> 7.58</td><td> 8.74</td><td>12.74</td><td> 7.71</td></tr>\n",
       "\t<tr><th scope=row>4</th><td>9.00</td><td>9.00</td><td>9.00</td><td>8.00</td><td>8.81</td><td>8.77</td><td>7.11</td><td>8.84</td></tr>\n",
       "\t<tr><th scope=row>5</th><td>11.00</td><td>11.00</td><td>11.00</td><td> 8.00</td><td> 8.33</td><td> 9.26</td><td> 7.81</td><td> 8.47</td></tr>\n",
       "\t<tr><th scope=row>6</th><td>14.00</td><td>14.00</td><td>14.00</td><td> 8.00</td><td> 9.96</td><td> 8.10</td><td> 8.84</td><td> 7.04</td></tr>\n",
       "\t<tr><th scope=row>7</th><td>6.00</td><td>6.00</td><td>6.00</td><td>8.00</td><td>7.24</td><td>6.13</td><td>6.08</td><td>5.25</td></tr>\n",
       "\t<tr><th scope=row>8</th><td> 4.00</td><td> 4.00</td><td> 4.00</td><td>19.00</td><td> 4.26</td><td> 3.10</td><td> 5.39</td><td>12.50</td></tr>\n",
       "\t<tr><th scope=row>9</th><td>12.00</td><td>12.00</td><td>12.00</td><td> 8.00</td><td>10.84</td><td> 9.13</td><td> 8.15</td><td> 5.56</td></tr>\n",
       "\t<tr><th scope=row>10</th><td>7.00</td><td>7.00</td><td>7.00</td><td>8.00</td><td>4.82</td><td>7.26</td><td>6.42</td><td>7.91</td></tr>\n",
       "\t<tr><th scope=row>11</th><td>5.00</td><td>5.00</td><td>5.00</td><td>8.00</td><td>5.68</td><td>4.74</td><td>5.73</td><td>6.89</td></tr>\n",
       "</tbody>\n",
       "</table>\n"
      ],
      "text/latex": [
       "\\begin{tabular}{r|llllllll}\n",
       "  & x1 & x2 & x3 & x4 & y1 & y2 & y3 & y4\\\\\n",
       "\\hline\n",
       "\t1 & 10.00 & 10.00 & 10.00 &  8.00 &  8.04 &  9.14 &  7.46 &  6.58\\\\\n",
       "\t2 & 8.00 & 8.00 & 8.00 & 8.00 & 6.95 & 8.14 & 6.77 & 5.76\\\\\n",
       "\t3 & 13.00 & 13.00 & 13.00 &  8.00 &  7.58 &  8.74 & 12.74 &  7.71\\\\\n",
       "\t4 & 9.00 & 9.00 & 9.00 & 8.00 & 8.81 & 8.77 & 7.11 & 8.84\\\\\n",
       "\t5 & 11.00 & 11.00 & 11.00 &  8.00 &  8.33 &  9.26 &  7.81 &  8.47\\\\\n",
       "\t6 & 14.00 & 14.00 & 14.00 &  8.00 &  9.96 &  8.10 &  8.84 &  7.04\\\\\n",
       "\t7 & 6.00 & 6.00 & 6.00 & 8.00 & 7.24 & 6.13 & 6.08 & 5.25\\\\\n",
       "\t8 &  4.00 &  4.00 &  4.00 & 19.00 &  4.26 &  3.10 &  5.39 & 12.50\\\\\n",
       "\t9 & 12.00 & 12.00 & 12.00 &  8.00 & 10.84 &  9.13 &  8.15 &  5.56\\\\\n",
       "\t10 & 7.00 & 7.00 & 7.00 & 8.00 & 4.82 & 7.26 & 6.42 & 7.91\\\\\n",
       "\t11 & 5.00 & 5.00 & 5.00 & 8.00 & 5.68 & 4.74 & 5.73 & 6.89\\\\\n",
       "\\end{tabular}\n"
      ],
      "text/plain": [
       "   x1 x2 x3 x4    y1   y2    y3    y4\n",
       "1  10 10 10  8  8.04 9.14  7.46  6.58\n",
       "2   8  8  8  8  6.95 8.14  6.77  5.76\n",
       "3  13 13 13  8  7.58 8.74 12.74  7.71\n",
       "4   9  9  9  8  8.81 8.77  7.11  8.84\n",
       "5  11 11 11  8  8.33 9.26  7.81  8.47\n",
       "6  14 14 14  8  9.96 8.10  8.84  7.04\n",
       "7   6  6  6  8  7.24 6.13  6.08  5.25\n",
       "8   4  4  4 19  4.26 3.10  5.39 12.50\n",
       "9  12 12 12  8 10.84 9.13  8.15  5.56\n",
       "10  7  7  7  8  4.82 7.26  6.42  7.91\n",
       "11  5  5  5  8  5.68 4.74  5.73  6.89"
      ]
     },
     "metadata": {},
     "output_type": "display_data"
    }
   ],
   "source": [
    "# install.packages(\"gridExtra\",repo=\"https://cran.cnr.berkeley.edu/\")\n",
    "library(ggplot2)\n",
    "library(gridExtra)\n",
    "\n",
    "# the data set already comes with the library itself, we just call it to the workspace.\n",
    "data(anscombe)\n",
    "\n",
    "# let's look at the data itself\n",
    "anscombe"
   ]
  },
  {
   "cell_type": "code",
   "execution_count": 2,
   "metadata": {
    "collapsed": false
   },
   "outputs": [
    {
     "data": {
      "text/plain": [
       "       x1             x2             x3             x4           y1        \n",
       " Min.   : 4.0   Min.   : 4.0   Min.   : 4.0   Min.   : 8   Min.   : 4.260  \n",
       " 1st Qu.: 6.5   1st Qu.: 6.5   1st Qu.: 6.5   1st Qu.: 8   1st Qu.: 6.315  \n",
       " Median : 9.0   Median : 9.0   Median : 9.0   Median : 8   Median : 7.580  \n",
       " Mean   : 9.0   Mean   : 9.0   Mean   : 9.0   Mean   : 9   Mean   : 7.501  \n",
       " 3rd Qu.:11.5   3rd Qu.:11.5   3rd Qu.:11.5   3rd Qu.: 8   3rd Qu.: 8.570  \n",
       " Max.   :14.0   Max.   :14.0   Max.   :14.0   Max.   :19   Max.   :10.840  \n",
       "       y2              y3              y4        \n",
       " Min.   :3.100   Min.   : 5.39   Min.   : 5.250  \n",
       " 1st Qu.:6.695   1st Qu.: 6.25   1st Qu.: 6.170  \n",
       " Median :8.140   Median : 7.11   Median : 7.040  \n",
       " Mean   :7.501   Mean   : 7.50   Mean   : 7.501  \n",
       " 3rd Qu.:8.950   3rd Qu.: 7.98   3rd Qu.: 8.190  \n",
       " Max.   :9.260   Max.   :12.74   Max.   :12.500  "
      ]
     },
     "metadata": {},
     "output_type": "display_data"
    }
   ],
   "source": [
    "#Now let's look at the statistics\n",
    "summary(anscombe)"
   ]
  },
  {
   "cell_type": "code",
   "execution_count": 3,
   "metadata": {
    "collapsed": false
   },
   "outputs": [
    {
     "data": {
      "text/html": [
       "<ol class=list-inline>\n",
       "\t<li>0.81642051634484</li>\n",
       "\t<li>0.816236506000243</li>\n",
       "\t<li>0.816286739489598</li>\n",
       "\t<li>0.816521436888503</li>\n",
       "</ol>\n"
      ],
      "text/latex": [
       "\\begin{enumerate*}\n",
       "\\item 0.81642051634484\n",
       "\\item 0.816236506000243\n",
       "\\item 0.816286739489598\n",
       "\\item 0.816521436888503\n",
       "\\end{enumerate*}\n"
      ],
      "text/markdown": [
       "1. 0.81642051634484\n",
       "2. 0.816236506000243\n",
       "3. 0.816286739489598\n",
       "4. 0.816521436888503\n",
       "\n",
       "\n"
      ],
      "text/plain": [
       "[1] 0.8164205 0.8162365 0.8162867 0.8165214"
      ]
     },
     "metadata": {},
     "output_type": "display_data"
    }
   ],
   "source": [
    "# correlation\n",
    "sapply(1:4, function(x) cor(anscombe[, x], anscombe[, x+4]))"
   ]
  },
  {
   "cell_type": "code",
   "execution_count": 4,
   "metadata": {
    "collapsed": false
   },
   "outputs": [
    {
     "data": {
      "text/html": [
       "<ol class=list-inline>\n",
       "\t<li>4.12726909090909</li>\n",
       "\t<li>4.12762909090909</li>\n",
       "\t<li>4.12262</li>\n",
       "\t<li>4.12324909090909</li>\n",
       "</ol>\n"
      ],
      "text/latex": [
       "\\begin{enumerate*}\n",
       "\\item 4.12726909090909\n",
       "\\item 4.12762909090909\n",
       "\\item 4.12262\n",
       "\\item 4.12324909090909\n",
       "\\end{enumerate*}\n"
      ],
      "text/markdown": [
       "1. 4.12726909090909\n",
       "2. 4.12762909090909\n",
       "3. 4.12262\n",
       "4. 4.12324909090909\n",
       "\n",
       "\n"
      ],
      "text/plain": [
       "[1] 4.127269 4.127629 4.122620 4.123249"
      ]
     },
     "metadata": {},
     "output_type": "display_data"
    }
   ],
   "source": [
    "# variance\n",
    "sapply(5:8, function(x) var(anscombe[, x]))"
   ]
  },
  {
   "cell_type": "code",
   "execution_count": 5,
   "metadata": {
    "collapsed": false
   },
   "outputs": [
    {
     "data": {
      "text/plain": [
       "\n",
       "Call:\n",
       "lm(formula = y1 ~ x1, data = anscombe)\n",
       "\n",
       "Coefficients:\n",
       "(Intercept)           x1  \n",
       "     3.0001       0.5001  \n"
      ]
     },
     "metadata": {},
     "output_type": "display_data"
    }
   ],
   "source": [
    "# linear regression (first pair)\n",
    "lm(y1 ~ x1, data = anscombe)"
   ]
  },
  {
   "cell_type": "code",
   "execution_count": 6,
   "metadata": {
    "collapsed": false
   },
   "outputs": [
    {
     "data": {
      "text/plain": [
       "\n",
       "Call:\n",
       "lm(formula = y2 ~ x2, data = anscombe)\n",
       "\n",
       "Coefficients:\n",
       "(Intercept)           x2  \n",
       "      3.001        0.500  \n"
      ]
     },
     "metadata": {},
     "output_type": "display_data"
    }
   ],
   "source": [
    "# linear regression (second pair)\n",
    "lm(y2 ~ x2, data = anscombe)"
   ]
  },
  {
   "cell_type": "markdown",
   "metadata": {},
   "source": [
    "**Now, it's your turn:** Find the linear regression coefficients for the next two data sets."
   ]
  },
  {
   "cell_type": "code",
   "execution_count": 7,
   "metadata": {
    "collapsed": false
   },
   "outputs": [],
   "source": [
    "# linear regression (next two pairs)\n",
    "# <your code here>"
   ]
  },
  {
   "cell_type": "code",
   "execution_count": 8,
   "metadata": {
    "collapsed": true
   },
   "outputs": [],
   "source": [
    "# Let's create a plot with x1 and y1 as the inputs and use the geom_point: it'll be a scatterplot\n",
    "p1 <- ggplot(anscombe, aes(x1, y1)) + geom_point() \n",
    "# add a linear regression line and set minimum x,y limits on the plot\n",
    "p1 <- p1 + geom_smooth(method = lm, se = FALSE) + expand_limits(x = 4, y = 4)\n",
    "\n",
    "# Now, let's do it for x2,y2\n",
    "p2 <- ggplot(anscombe, aes(x2, y2)) + geom_point() \n",
    "p2 <- p2 + geom_smooth(method = lm, se = FALSE) + expand_limits(x = 4, y = 4)"
   ]
  },
  {
   "cell_type": "markdown",
   "metadata": {},
   "source": [
    "**Now, it's your turn:** create the plots for x3,y3 and x4,y4."
   ]
  },
  {
   "cell_type": "code",
   "execution_count": 9,
   "metadata": {
    "collapsed": false
   },
   "outputs": [
    {
     "data": {
      "image/png": "[encoded data removed]",
      "text/plain": [
       "plot without title"
      ]
     },
     "metadata": {},
     "output_type": "display_data"
    }
   ],
   "source": [
    "p3 <- ggplot(anscombe, aes(x3, y3)) + geom_point() \n",
    "# add a linear regression line and set minimum x,y limits on the plot\n",
    "p3 <- p3 + geom_smooth(method = lm, se = FALSE) + expand_limits(x = 4, y = 4)\n",
    "\n",
    "p4 <- ggplot(anscombe, aes(x4, y4)) + geom_point() \n",
    "# add a linear regression line and set minimum x,y limits on the plot\n",
    "p4 <- p4 + geom_smooth(method = lm, se = FALSE) + expand_limits(x = 4, y = 4)\n",
    "\n",
    "# Now plot them as a grid \n",
    "grid.arrange(p1, p2, p3, p4)"
   ]
  },
  {
   "cell_type": "markdown",
   "metadata": {},
   "source": [
    "*ggplot2* has many ways of manipulating the data, let's try to make our plots look very close to the original picture above. "
   ]
  },
  {
   "cell_type": "code",
   "execution_count": 13,
   "metadata": {
    "collapsed": false
   },
   "outputs": [
    {
     "data": {},
     "metadata": {},
     "output_type": "display_data"
    },
    {
     "data": {
      "image/png": "[encoded data removed]",
      "text/plain": [
       "plot without title"
      ]
     },
     "metadata": {},
     "output_type": "display_data"
    }
   ],
   "source": [
    "# This is another way of drawing the scatterplot in order to make it look very close to our original graph. \n",
    "# change color and size of the marker\n",
    "pp1 <- ggplot(anscombe) + geom_point(aes(x1, y1), color = \"darkorange\", size = 3) \n",
    "# add black and white theme\n",
    "pp1 <- pp1 + theme_bw()\n",
    "# adjust the limits on the axes\n",
    "pp1 <- pp1 + scale_x_continuous(breaks = seq(0, 18, 2)) + scale_y_continuous(breaks = seq(0, 12, 2)) \n",
    "# draw a line with an intercept and slope -- see the difference from above\n",
    "pp1 <- pp1 + geom_abline(intercept = 3, slope = 0.5, color = \"cornflowerblue\") \n",
    "# more axis stuff\n",
    "pp1 <- pp1 + expand_limits(x = c(4,18), y = c(4,12)) \n",
    "# add title \n",
    "pp1 <- pp1 + labs(title = \"dataset 1\")\n",
    "pp1"
   ]
  },
  {
   "cell_type": "markdown",
   "metadata": {},
   "source": [
    "**Again, it's your turn:** create the rest of the plots. "
   ]
  },
  {
   "cell_type": "code",
   "execution_count": null,
   "metadata": {
    "collapsed": false
   },
   "outputs": [],
   "source": [
    "pp2 <- ggplot(anscombe) + <your code here>\n",
    "pp2 <- pp2 + theme_bw() \n",
    "pp2 <- pp2 + scale_x_continuous(breaks = seq(0, 18, 2)) + scale_y_continuous(breaks = seq(0, 12, 2)) \n",
    "pp2 <- pp2 + geom_abline(intercept = 3, slope = 0.5, color = \"cornflowerblue\") \n",
    "pp2 <- pp2 + expand_limits(x = c(4,18), y = c(4,12)) \n",
    "pp2 <- pp2 + <your code here>"
   ]
  },
  {
   "cell_type": "code",
   "execution_count": null,
   "metadata": {
    "collapsed": false
   },
   "outputs": [],
   "source": [
    "pp3 <- <your code here>\n",
    "\n",
    "pp4 <- <your code here>\n",
    "\n",
    "grid.arrange(pp1, pp2, pp3, pp4)"
   ]
  },
  {
   "cell_type": "markdown",
   "metadata": {},
   "source": [
    "In the coming labs and practices, we will learn how to manipulate different types of visualizations (plots, bar charts, histograms, etc.) using ggplot2. "
   ]
  }
 ],
 "metadata": {
  "anaconda-cloud": {},
  "kernelspec": {
   "display_name": "R",
   "language": "R",
   "name": "ir"
  },
  "language_info": {
   "codemirror_mode": "r",
   "file_extension": ".r",
   "mimetype": "text/x-r-source",
   "name": "R",
   "pygments_lexer": "r",
   "version": "3.3.2"
  }
 },
 "nbformat": 4,
 "nbformat_minor": 1
}
