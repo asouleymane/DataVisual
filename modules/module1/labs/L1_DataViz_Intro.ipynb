{
 "cells": [
  {
   "cell_type": "markdown",
   "metadata": {},
   "source": [
    "# Lab 1 - Introduction to Data Visualization\n",
    "\n",
    "This is your first lab for the Introduction to Data Visualization course. We will cover the fundamentals of visualization concepts and technologies. We will start with the principles of data visualization, human visual perception; and then we will learn how to select the appropriate visualization methods for various types of data, and we will implement our visualizations in R using several libraries such as ggplot2 and plotly. We will also refer to the slides as we go through the labs. For this lab, we will refer to the slides in the file  [L1_DataViz_Intro.pdf](L1_DataViz_Intro.pdf)."
   ]
  },
  {
   "cell_type": "markdown",
   "metadata": {},
   "source": [
    "## What is data visualization?\n",
    "\n",
    "Data visualization is the visual representation of data in order to explore, discover, analyze, and gain insight about the phenomena. This facet of the visualization mainly is about understanding data better through visual representation. The other facet of data visualization is to effectively communicate ideas, convey a consistent message, and convince people. So we have several types of visualization depending on the purpose:\n",
    "\n",
    "### Types of visualization\n",
    "\n",
    "* **Scientific visualization** (SciVis): SciVis is the visualization of the structured data, usually in 3D, in order to simulate or recreate real, physical models such as storm forecasting, seismic data, fluid dynamics, medical image visualization, etc. (refer to **slide #5** in [L1_DataViz_Intro.pdf](L1_DataViz_Intro.pdf)). \n",
    "\n",
    "\n",
    "* **Information visualization** (InfoVis): This usually covers all kinds of data with or without any inherent structure and can span from statistical plots with mathematical accuracy to the infographics that we see in newspapers or news web sites. It can be relational (networks of data items such as facebook connections), geographical (maps), or simple measurements or time series such as stock market data. The main purpose of this type of visualization is to effectively communicate a message\n",
    "(refer to **slide #6** in [L1_DataViz_Intro.pdf](L1_DataViz_Intro.pdf)). \n",
    "\n",
    "\n",
    "* **Visual Analytics**: This is the visualization of data to explore and *gain insight* toward understanding some phenomenon in the data (correlations, clusters, outliers, etc.) which helps us to choose the right mathematical and statistical tools to anaylze the data.\n"
   ]
  },
  {
   "cell_type": "markdown",
   "metadata": {},
   "source": [
    "## Why visualize data ? \n",
    "\n",
    "As we discussed above, we visualize the data either to explore and understand it, or to communicate a message. Why can't we simply use some mathematical tools to get an understanding of the data, or why can't we use words, descriptions to communicate a message ? Human visual perception is very well developed system that is an integral part of our perception of the world. We can use it to our advantage. \n",
    "\n",
    "Let's look at an example. How many letter V's do you see in here ? \n",
    "\n",
    "<img src=\"../images/numberofvs.png\">\n",
    "\n",
    "It's hard to say, we need to go through it one by one and count. Now look at the this:\n",
    "\n",
    "<img src=\"../images/numberofvs2.png\">\n",
    "\n",
    "V's are distinctively colored and we can immediately count them. Our visual perception, as we will see later, can process visual elements with distinction much faster. \n",
    "\n",
    "So for the data analysis purpose, we can exploit the human visual perception in order to easily explore and discover characteristics, or relationships in the data. For the communication purposes, we can exploit the same in order to represent the data in a manner that is suitable to convey an idea or message effectively. \n",
    "\n",
    "Later, we will see another simple example where we can gain much better insight on data by simply visualizing it rather than using mathematical and statistical tools. \n"
   ]
  },
  {
   "cell_type": "markdown",
   "metadata": {},
   "source": [
    "## Impact of Visualization\n",
    "\n",
    "Let's look at three examples of visualization and see what kind of impact they can have. The first two are significant historical examples that made a big impact. \n",
    "\n",
    "### Minard's map of Napoleon's Russian Campaign of 1812\n",
    "\n",
    "This is one of the first significant examples of visualization where six kinds of data were represented in a map: number of troops, distance traveled, temperature, position, direction of travel, and dates (**Slide #10**). The impact of it is how it showed the diminishing number of troops as the campaign progressed. With one look at this map, people could comprehend the disastrous nature of the campaign.\n",
    "\n",
    "<img src=\"../images/Minard.png\">\n",
    "\n",
    "### John Snow’s cholera map in the London Epidemic of 1854\n",
    "\n",
    "This is also a significant visualization for its time (**Slide #11**) as it was helpful to understand the nature of the epidemic. John Snow mapped the number of dead to their locations which helped to discover an important aspect: deads clustered around water pumps. This kind of exploratory analysis was key to understand the relation between cholera and the water sources. \n",
    "\n",
    "<img src=\"../images/Snow.png\">\n",
    "\n",
    "### Causes of Untimely Death \n",
    "\n",
    "This is a *tree map* that shows the annual percentage change from 2005 to 2010 of untimely deaths due to different causes (**Slide #12**). It shows us a hierarchy with three top level causes: infectious diseases, injuries, and noncommunicable diseases. By giving them different colors, it helps us to distinguish between them, and by changing the shade of the colors, it helps us understand which diseases cause more deaths. This visualization can be used effectively to communicate several messages instantly: for example, we can easily see that infectious diseases are still a very big problem, and diseases like Malaria or AIDS still have big impact. This is a good example of information visualization with the purpose of conveying a message or idea. \n",
    "\n",
    "<img src=\"../images/Deaths.png\">\n"
   ]
  },
  {
   "cell_type": "markdown",
   "metadata": {},
   "source": [
    "## Anscombe's Quartet\n",
    "\n",
    "Now, let's look at a simple numerical example to see the importance of exploratory visualization. The following four sets of (x,y) coordinates are known as *Anscombe's Quartet*. What you see below is actually the simplest form of visualization: simply putting numbers in a table. Can you see anything of importance when you look at this data? Probably not, because it is not visualized to exploit the characteristics of human visual perception.\n",
    "\n",
    "<img src=\"../images/Anscombe.png\">\n",
    "\n",
    "If you run some simple statistics, you'll see that all four of these (very simple) data sets have almost exact same statistics. \n",
    "\n",
    "<img src=\"../images/AnscombeStats.png\">\n",
    "\n",
    "Let's see what happens if we visualize the data set as a simple scatter plot.\n",
    "\n",
    "<img src=\"../images/AnscombeGraph.png\">\n",
    "\n",
    "As you can see, these data sets have very different characteristics, yet we could not discover it by running statistics, we had to visualize in order to understand and explore data. Even this simple example shows the importance if visual exploration. By looking at this, we can come up with hyppotheses regarding the data, for example, we can easily see that there are some outliers in the bottom plots and we can explore further whether they are simply noise or important data points to consider. Visualization helps us to understand data and represent it effectively to make decisions. "
   ]
  }
 ],
 "metadata": {
  "kernelspec": {
   "display_name": "R",
   "language": "R",
   "name": "ir"
  },
  "language_info": {
   "codemirror_mode": "r",
   "file_extension": ".r",
   "mimetype": "text/x-r-source",
   "name": "R",
   "pygments_lexer": "r",
   "version": "3.3.1"
  }
 },
 "nbformat": 4,
 "nbformat_minor": 1
}
